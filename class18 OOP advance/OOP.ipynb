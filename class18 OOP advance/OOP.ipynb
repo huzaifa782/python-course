{
 "cells": [
  {
   "cell_type": "code",
   "execution_count": 1,
   "id": "ba5a3f4c",
   "metadata": {},
   "outputs": [],
   "source": [
    "def obj1_speak():pass\n",
    "def obj2_speak():pass\n",
    "\n",
    "obj1_name : str = \"Qasim Hassan\"\n",
    "obj2_name : str = \"Muhammad Mehmood\""
   ]
  },
  {
   "cell_type": "markdown",
   "id": "327b2e6a",
   "metadata": {},
   "source": [
    "## Classes\n",
    "\n",
    "- method/constructor\n",
    "- attribute_name\n",
    "- Other methods\n",
    "- intialize object\n",
    "- dir()"
   ]
  },
  {
   "cell_type": "code",
   "execution_count": 2,
   "id": "7035f6a5",
   "metadata": {},
   "outputs": [],
   "source": [
    "class Teacher():\n",
    "    def __init__(self, teacher_id : int , teacher_name : str) -> None: # method/constructor\n",
    "        self.name : str = teacher_name #self.attribute_name = value\n",
    "        self.teacher_id : int  = teacher_id\n",
    "        self.organization_name: str = \"SMIT\"\n",
    "\n",
    "\n",
    "    def speak(self, words : str )->None: # method\n",
    "        print(f\"{self.name} is speaking {words}\")\n",
    "    \n",
    "    def teaching(self, subject : str )->None: # method\n",
    "        print(f\"{self.name} is teaching {subject}...!\")"
   ]
  },
  {
   "cell_type": "code",
   "execution_count": 3,
   "id": "7c44d7a2",
   "metadata": {},
   "outputs": [],
   "source": [
    "#intialize object->calling constructor __init__() method only this time\n",
    "obj1 : Teacher = Teacher(1,\"Qasim Hassan\") \n",
    "# obj1 = object, teacher class instance\n",
    "\n",
    "obj2 : Teacher = Teacher(2, \"Muhammad Mehmood\")"
   ]
  },
  {
   "cell_type": "code",
   "execution_count": 9,
   "id": "81e7a20d",
   "metadata": {},
   "outputs": [
    {
     "data": {
      "text/plain": [
       "('SMIT', 1)"
      ]
     },
     "execution_count": 9,
     "metadata": {},
     "output_type": "execute_result"
    }
   ],
   "source": [
    "obj1.organization_name, obj1.teacher_id"
   ]
  },
  {
   "cell_type": "code",
   "execution_count": 7,
   "id": "7ccde71c",
   "metadata": {},
   "outputs": [
    {
     "name": "stdout",
     "output_type": "stream",
     "text": [
      "Qasim Hassan is speaking SMIT Students will rock\n"
     ]
    }
   ],
   "source": [
    "obj1.speak(\"SMIT Students will rock\")"
   ]
  },
  {
   "cell_type": "code",
   "execution_count": 8,
   "id": "eb1e5b65",
   "metadata": {},
   "outputs": [
    {
     "name": "stdout",
     "output_type": "stream",
     "text": [
      "Qasim Hassan is teaching Python Programming...!\n"
     ]
    }
   ],
   "source": [
    "obj1.teaching(\"Python Programming\")"
   ]
  },
  {
   "cell_type": "code",
   "execution_count": 10,
   "id": "77fcf5b1",
   "metadata": {},
   "outputs": [
    {
     "ename": "TypeError",
     "evalue": "Teacher.__init__() missing 1 required positional argument: 'teacher_name'",
     "output_type": "error",
     "traceback": [
      "\u001b[1;31m---------------------------------------------------------------------------\u001b[0m",
      "\u001b[1;31mTypeError\u001b[0m                                 Traceback (most recent call last)",
      "Cell \u001b[1;32mIn [10], line 1\u001b[0m\n\u001b[1;32m----> 1\u001b[0m less_arguments \u001b[38;5;241m=\u001b[39m \u001b[43mTeacher\u001b[49m\u001b[43m(\u001b[49m\u001b[38;5;241;43m3\u001b[39;49m\u001b[43m)\u001b[49m\n",
      "\u001b[1;31mTypeError\u001b[0m: Teacher.__init__() missing 1 required positional argument: 'teacher_name'"
     ]
    }
   ],
   "source": [
    "less_arguments = Teacher(3)"
   ]
  },
  {
   "cell_type": "code",
   "execution_count": 16,
   "id": "7b59b084",
   "metadata": {},
   "outputs": [
    {
     "name": "stdout",
     "output_type": "stream",
     "text": [
      "1 Qasim Hassan SMIT\n",
      "2 Muhammad Mehmood SMIT\n"
     ]
    }
   ],
   "source": [
    "print(obj1.teacher_id, obj1.name, obj1.organization_name)\n",
    "print(obj2.teacher_id, obj2.name, obj2.organization_name)"
   ]
  },
  {
   "cell_type": "code",
   "execution_count": 17,
   "id": "5cb4fa5c",
   "metadata": {},
   "outputs": [
    {
     "data": {
      "text/plain": [
       "['__class__',\n",
       " '__delattr__',\n",
       " '__dict__',\n",
       " '__dir__',\n",
       " '__doc__',\n",
       " '__eq__',\n",
       " '__format__',\n",
       " '__ge__',\n",
       " '__getattribute__',\n",
       " '__getstate__',\n",
       " '__gt__',\n",
       " '__hash__',\n",
       " '__init__',\n",
       " '__init_subclass__',\n",
       " '__le__',\n",
       " '__lt__',\n",
       " '__module__',\n",
       " '__ne__',\n",
       " '__new__',\n",
       " '__reduce__',\n",
       " '__reduce_ex__',\n",
       " '__repr__',\n",
       " '__setattr__',\n",
       " '__sizeof__',\n",
       " '__str__',\n",
       " '__subclasshook__',\n",
       " '__weakref__',\n",
       " 'name',\n",
       " 'organization_name',\n",
       " 'speak',\n",
       " 'teacher_id',\n",
       " 'teaching']"
      ]
     },
     "execution_count": 17,
     "metadata": {},
     "output_type": "execute_result"
    }
   ],
   "source": [
    "dir(obj1)"
   ]
  },
  {
   "cell_type": "code",
   "execution_count": 18,
   "id": "45c05ef5",
   "metadata": {},
   "outputs": [
    {
     "data": {
      "text/plain": [
       "['name', 'organization_name', 'speak', 'teacher_id', 'teaching']"
      ]
     },
     "execution_count": 18,
     "metadata": {},
     "output_type": "execute_result"
    }
   ],
   "source": [
    "[i for i in dir(obj1) if \"__\" not in i]"
   ]
  },
  {
   "cell_type": "markdown",
   "id": "a5200399",
   "metadata": {},
   "source": [
    "## Class Variables"
   ]
  },
  {
   "cell_type": "code",
   "execution_count": 19,
   "id": "921239f5",
   "metadata": {},
   "outputs": [
    {
     "name": "stdout",
     "output_type": "stream",
     "text": [
      "1 1\n"
     ]
    }
   ],
   "source": [
    "class Teacher():\n",
    "    counter : int = 0 # Class variable1\n",
    "    help_line_number : str = \"0300-23344556\" # class variable2\n",
    "\n",
    "    def __init__(self, teacher_id : int , teacher_name : str) -> None: # method/constructor\n",
    "        self.name : str = teacher_name #self.attribute_name = value\n",
    "        self.teacher_id : int  = teacher_id\n",
    "        self.organization_name: str = \"SMIT\"\n",
    "        Teacher.counter += 1\n",
    "\n",
    "\n",
    "    def speak(self, words : str )->None: # method\n",
    "        print(f\"{self.name} is speaking {words}\")\n",
    "    \n",
    "    def teaching(self, subject : str )->None: # method\n",
    "        print(f\"{self.name} is teaching {subject}...!\")\n",
    "\n",
    "    def details(self)->None:\n",
    "        information : str = f\"\"\"\n",
    "        Teacher name is {self.name}\n",
    "        our help line number is {Teacher.help_line_number}\n",
    "        \"\"\"\n",
    "        print(information)\n",
    "\n",
    "\n",
    "obj1 : Teacher = Teacher(1,\"Qasim Hassan\")\n",
    "\n",
    "print(Teacher.counter, obj1.counter)"
   ]
  },
  {
   "cell_type": "code",
   "execution_count": 20,
   "id": "bf6d4f17",
   "metadata": {},
   "outputs": [
    {
     "data": {
      "text/plain": [
       "2626194120592"
      ]
     },
     "execution_count": 20,
     "metadata": {},
     "output_type": "execute_result"
    }
   ],
   "source": [
    "id(obj1)"
   ]
  },
  {
   "cell_type": "code",
   "execution_count": 21,
   "id": "00ba625e",
   "metadata": {},
   "outputs": [
    {
     "name": "stdout",
     "output_type": "stream",
     "text": [
      "2 2\n"
     ]
    }
   ],
   "source": [
    "obj2 : Teacher = Teacher(2, \"Muhammad Mehmood\")\n",
    "print(Teacher.counter, obj1.counter)"
   ]
  },
  {
   "cell_type": "code",
   "execution_count": 22,
   "id": "7f700bc9",
   "metadata": {},
   "outputs": [
    {
     "data": {
      "text/plain": [
       "2626193852560"
      ]
     },
     "execution_count": 22,
     "metadata": {},
     "output_type": "execute_result"
    }
   ],
   "source": [
    "id(obj2)"
   ]
  },
  {
   "cell_type": "code",
   "execution_count": 23,
   "id": "d8f13e53",
   "metadata": {},
   "outputs": [
    {
     "name": "stdout",
     "output_type": "stream",
     "text": [
      "2\n",
      "2\n",
      "2\n",
      "0300-23344556\n",
      "0300-23344556\n",
      "0300-23344556\n"
     ]
    }
   ],
   "source": [
    "print(obj1.counter)\n",
    "print(obj2.counter)\n",
    "print(Teacher.counter)\n",
    "\n",
    "print(obj1.help_line_number)\n",
    "print(obj2.help_line_number)\n",
    "print(Teacher.help_line_number)"
   ]
  },
  {
   "cell_type": "code",
   "execution_count": 24,
   "id": "2398ad8a",
   "metadata": {},
   "outputs": [
    {
     "name": "stdout",
     "output_type": "stream",
     "text": [
      "\n",
      "        Teacher name is Qasim Hassan\n",
      "        our help line number is 0300-23344556\n",
      "        \n"
     ]
    }
   ],
   "source": [
    "obj1.details()"
   ]
  },
  {
   "cell_type": "markdown",
   "id": "63c89d39",
   "metadata": {},
   "source": [
    "## Inheritance"
   ]
  },
  {
   "cell_type": "code",
   "execution_count": 32,
   "id": "be51dd7e",
   "metadata": {},
   "outputs": [
    {
     "name": "stdout",
     "output_type": "stream",
     "text": [
      "Parent method speak: Pakistan zinda bad!\n",
      "You are watching TV!\n",
      "Brown\n",
      "black\n",
      "\n",
      "======Child object=======\n",
      "\n",
      "You are watching Cenima!\n",
      "Parent method speak: Hello World\n",
      "Brown\n",
      "black\n"
     ]
    }
   ],
   "source": [
    "class Parents():\n",
    "    def __init__(self)->None:\n",
    "        self.eye_color : str = \"Brown\"\n",
    "        self.hair_color : str = \"black\"\n",
    "\n",
    "    def speak(self, words: str)->None:\n",
    "        print(f\"Parent method speak: {words}\")\n",
    "\n",
    "    def watching(sef, object_name : str)->None:\n",
    "        print(f\"You are watching {object_name}!\")\n",
    "\n",
    "\n",
    "class Child(Parents):\n",
    "    pass \n",
    "\n",
    "\n",
    "obj1 : Parents = Parents()\n",
    "obj1.speak(\"Pakistan zinda bad!\")\n",
    "obj1.watching(\"TV\")\n",
    "print(obj1.eye_color)\n",
    "print(obj1.hair_color)\n",
    "\n",
    "print(\"\\n======Child object=======\\n\")\n",
    "### Child object \n",
    "\n",
    "obj2 : Child = Child()\n",
    "obj2.watching(\"Cenima\")\n",
    "obj2.speak(\"Hello World\")\n",
    "print(obj2.eye_color)\n",
    "print(obj2.hair_color)"
   ]
  },
  {
   "cell_type": "code",
   "execution_count": 34,
   "id": "a2a893ba",
   "metadata": {},
   "outputs": [
    {
     "name": "stdout",
     "output_type": "stream",
     "text": [
      "Brown\n",
      "black\n",
      "Parent method speak: Pakistan zinda bad!\n",
      "You are looking TV: Election News!\n",
      "\n",
      "======Child object=======\n",
      "\n",
      "You are looking Cenima!\n",
      "Parent method speak: Hello World\n",
      "Child method for teaching : Python Programming\n",
      "Brown\n",
      "black\n"
     ]
    }
   ],
   "source": [
    "class Parents():\n",
    "    def __init__(self)->None:\n",
    "        self.eye_color : str = \"Brown\"\n",
    "        self.hair_color : str = \"black\"\n",
    "\n",
    "    def speak(self, words: str)->None:\n",
    "        print(f\"Parent method speak: {words}\")\n",
    "\n",
    "    def watching(sef, object_name : str)->None:\n",
    "        print(f\"You are looking {object_name}!\")\n",
    "\n",
    "\n",
    "class Child(Parents):\n",
    "    def teaching(self, subject : str = None)->None:\n",
    "        print(f'Child method for teaching : {subject}')\n",
    "     \n",
    "\n",
    "\n",
    "obj1 : Parents = Parents()\n",
    "print(obj1.eye_color)\n",
    "print(obj1.hair_color)\n",
    "obj1.speak(\"Pakistan zinda bad!\")\n",
    "obj1.watching(\"TV: Election News\")\n",
    "\n",
    "\n",
    "### Child object \n",
    "print(\"\\n======Child object=======\\n\")\n",
    "\n",
    "obj2 : Child = Child()\n",
    "obj2.watching(\"Cenima\")\n",
    "obj2.speak(\"Hello World\")\n",
    "obj2.teaching(\"Python Programming\")\n",
    "print(obj2.eye_color)\n",
    "print(obj2.hair_color)"
   ]
  },
  {
   "cell_type": "code",
   "execution_count": 51,
   "id": "2112ab68",
   "metadata": {},
   "outputs": [
    {
     "ename": "TypeError",
     "evalue": "Developer.__init__() takes 2 positional arguments but 3 were given",
     "output_type": "error",
     "traceback": [
      "\u001b[1;31m---------------------------------------------------------------------------\u001b[0m",
      "\u001b[1;31mTypeError\u001b[0m                                 Traceback (most recent call last)",
      "Cell \u001b[1;32mIn [51], line 20\u001b[0m\n\u001b[0;32m     17\u001b[0m         \u001b[38;5;28mself\u001b[39m\u001b[38;5;241m.\u001b[39mprogramming_skills : \u001b[38;5;28mlist\u001b[39m[\u001b[38;5;28mstr\u001b[39m] \u001b[38;5;241m=\u001b[39m [\u001b[38;5;124m\"\u001b[39m\u001b[38;5;124mpython\u001b[39m\u001b[38;5;124m\"\u001b[39m]\n\u001b[0;32m     19\u001b[0m designer_obj : Designer \u001b[38;5;241m=\u001b[39m Designer(\u001b[38;5;124m\"\u001b[39m\u001b[38;5;124mAnimation Artist\u001b[39m\u001b[38;5;124m\"\u001b[39m,\u001b[38;5;124m\"\u001b[39m\u001b[38;5;124mAsif Khan\u001b[39m\u001b[38;5;124m\"\u001b[39m)\n\u001b[1;32m---> 20\u001b[0m dev_obj : Developer \u001b[38;5;241m=\u001b[39m \u001b[43mDeveloper\u001b[49m\u001b[43m(\u001b[49m\u001b[38;5;124;43m\"\u001b[39;49m\u001b[38;5;124;43mGenAI Engineer\u001b[39;49m\u001b[38;5;124;43m\"\u001b[39;49m\u001b[43m,\u001b[49m\u001b[38;5;124;43m\"\u001b[39;49m\u001b[38;5;124;43mIsfahan\u001b[39;49m\u001b[38;5;124;43m\"\u001b[39;49m\u001b[43m)\u001b[49m         \n\u001b[0;32m     22\u001b[0m \u001b[38;5;28mprint\u001b[39m(designer_obj\u001b[38;5;241m.\u001b[39mtitle)\n\u001b[0;32m     23\u001b[0m \u001b[38;5;28mprint\u001b[39m(dev_obj\u001b[38;5;241m.\u001b[39mprogramming_skills)\n",
      "\u001b[1;31mTypeError\u001b[0m: Developer.__init__() takes 2 positional arguments but 3 were given"
     ]
    }
   ],
   "source": [
    "class Employee():\n",
    "    def __init__(self, name:str) -> None:\n",
    "        self.name : str = name\n",
    "        self.education : str  = \"\"\n",
    "        self.department : str = \"\"\n",
    "\n",
    "class Designer(Employee):\n",
    "    def __init__(self, title : str, name: str) -> None:\n",
    "        super().__init__(name)\n",
    "\n",
    "        self.title : str = title\n",
    "\n",
    "class Developer(Employee):\n",
    "    def __init__(self, title:str) -> None:\n",
    "        super().__init__()\n",
    "        self.title: str = title\n",
    "        self.programming_skills : list[str] = [\"python\"]\n",
    "\n",
    "designer_obj : Designer = Designer(\"Animation Artist\",\"Asif Khan\")\n",
    "dev_obj : Developer = Developer(\"GenAI Engineer\",\"Isfahan\")         \n",
    "\n",
    "print(designer_obj.title)\n",
    "print(dev_obj.programming_skills)"
   ]
  },
  {
   "cell_type": "code",
   "execution_count": 40,
   "id": "422b4f83",
   "metadata": {},
   "outputs": [
    {
     "name": "stdout",
     "output_type": "stream",
     "text": [
      "Animation Artist\n",
      "['python']\n"
     ]
    }
   ],
   "source": [
    "from typing import List\n",
    "\n",
    "class Employee:\n",
    "    def __init__(self, name: str) -> None:\n",
    "        self.name: str = name\n",
    "        self.education: str = \"\"\n",
    "        self.department: str = \"\"\n",
    "\n",
    "class Designer(Employee):\n",
    "    def __init__(self, title: str, name: str) -> None:\n",
    "        super().__init__(name)\n",
    "        self.title: str = title\n",
    "\n",
    "class Developer(Employee):\n",
    "    def __init__(self, title: str, name: str) -> None:\n",
    "        super().__init__(name)\n",
    "        self.title: str = title\n",
    "        self.programming_skills: List[str] = [\"python\"]\n",
    "\n",
    "designer_obj: Designer = Designer(\"Animation Artist\", \"Asif Khan\")\n",
    "dev_obj: Developer = Developer(\"GenAI Engineer\", \"John Doe\")\n",
    "\n",
    "print(designer_obj.title)  # Output: Animation Artist\n",
    "print(dev_obj.programming_skills)  # Output: ['python']"
   ]
  },
  {
   "cell_type": "markdown",
   "id": "21ed2633",
   "metadata": {},
   "source": [
    "### Abstraction\n",
    "Abstraction: The concept of hiding the complex reality while exposing only the necessary parts. It helps to reduce programming complexity and effort.\n",
    "\n",
    "### Inheritance\n",
    "Inheritance: A mechanism wherein a new class inherits properties and behavior (methods) from another class. This helps to create a new class based on an existing class.\n",
    "\n",
    "### Encapsulation\n",
    "Encapsulation: The bundling of data with the methods that operate on that data. It restricts direct access to some of an object's components and can prevent the accidental modification of data.\n",
    "\n",
    "### Polymorphism\n",
    "Polymorphism: The ability of different classes to respond to the same message (method call) in different ways. This allows for code to work with objects of various classes as if they were objects of a common superclass."
   ]
  },
  {
   "cell_type": "code",
   "execution_count": null,
   "id": "4f409fbb",
   "metadata": {},
   "outputs": [],
   "source": []
  }
 ],
 "metadata": {
  "kernelspec": {
   "display_name": "Python 3 (ipykernel)",
   "language": "python",
   "name": "python3"
  },
  "language_info": {
   "codemirror_mode": {
    "name": "ipython",
    "version": 3
   },
   "file_extension": ".py",
   "mimetype": "text/x-python",
   "name": "python",
   "nbconvert_exporter": "python",
   "pygments_lexer": "ipython3",
   "version": "3.11.4"
  },
  "toc": {
   "base_numbering": 1,
   "nav_menu": {},
   "number_sections": true,
   "sideBar": true,
   "skip_h1_title": false,
   "title_cell": "Table of Contents",
   "title_sidebar": "Contents",
   "toc_cell": false,
   "toc_position": {},
   "toc_section_display": true,
   "toc_window_display": false
  }
 },
 "nbformat": 4,
 "nbformat_minor": 5
}
