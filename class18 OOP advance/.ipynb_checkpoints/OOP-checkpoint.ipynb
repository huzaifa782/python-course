{
 "cells": [
  {
   "cell_type": "code",
   "execution_count": 1,
   "id": "911c152c",
   "metadata": {},
   "outputs": [],
   "source": [
    "def obj1_speak():pass\n",
    "def obj2_speak():pass\n",
    "\n",
    "obj1_name : str = \"Qasim Hassan\"\n",
    "obj2_name : str = \"Muhammad Mehmood\""
   ]
  },
  {
   "cell_type": "code",
   "execution_count": 2,
   "id": "0ab11275",
   "metadata": {},
   "outputs": [],
   "source": [
    "class Teacher():\n",
    "    def __init__(self, teacher_id : int , teacher_name : str) -> None: # method/constructor\n",
    "        self.name : str = teacher_name #self.attribute_name = value\n",
    "        self.teacher_id : int  = teacher_id\n",
    "        self.organization_name: str = \"SMIT\"\n",
    "\n",
    "\n",
    "    def speak(self, words : str )->None: # method\n",
    "        print(f\"{self.name} is speaking {words}\")\n",
    "    \n",
    "    def teaching(self, subject : str )->None: # method\n",
    "        print(f\"{self.name} is teaching {subject}...!\")"
   ]
  },
  {
   "cell_type": "code",
   "execution_count": 3,
   "id": "c6025c88",
   "metadata": {},
   "outputs": [],
   "source": [
    "#intialize object->calling constructor __init__() method only this time\n",
    "obj1 : Teacher = Teacher(1,\"Qasim Hassan\") \n",
    "# obj1 = object, teacher class instance\n",
    "\n",
    "obj2 : Teacher = Teacher(2, \"Muhammad Mehmood\")"
   ]
  },
  {
   "cell_type": "code",
   "execution_count": 9,
   "id": "be787b40",
   "metadata": {},
   "outputs": [
    {
     "data": {
      "text/plain": [
       "('SMIT', 1)"
      ]
     },
     "execution_count": 9,
     "metadata": {},
     "output_type": "execute_result"
    }
   ],
   "source": [
    "obj1.organization_name, obj1.teacher_id"
   ]
  },
  {
   "cell_type": "code",
   "execution_count": 7,
   "id": "93adeb91",
   "metadata": {},
   "outputs": [
    {
     "name": "stdout",
     "output_type": "stream",
     "text": [
      "Qasim Hassan is speaking SMIT Students will rock\n"
     ]
    }
   ],
   "source": [
    "obj1.speak(\"SMIT Students will rock\")"
   ]
  },
  {
   "cell_type": "code",
   "execution_count": 8,
   "id": "f95f596e",
   "metadata": {},
   "outputs": [
    {
     "name": "stdout",
     "output_type": "stream",
     "text": [
      "Qasim Hassan is teaching Python Programming...!\n"
     ]
    }
   ],
   "source": [
    "obj1.teaching(\"Python Programming\")"
   ]
  },
  {
   "cell_type": "code",
   "execution_count": 10,
   "id": "d78463a0",
   "metadata": {},
   "outputs": [
    {
     "ename": "TypeError",
     "evalue": "Teacher.__init__() missing 1 required positional argument: 'teacher_name'",
     "output_type": "error",
     "traceback": [
      "\u001b[1;31m---------------------------------------------------------------------------\u001b[0m",
      "\u001b[1;31mTypeError\u001b[0m                                 Traceback (most recent call last)",
      "Cell \u001b[1;32mIn [10], line 1\u001b[0m\n\u001b[1;32m----> 1\u001b[0m less_arguments \u001b[38;5;241m=\u001b[39m \u001b[43mTeacher\u001b[49m\u001b[43m(\u001b[49m\u001b[38;5;241;43m3\u001b[39;49m\u001b[43m)\u001b[49m\n",
      "\u001b[1;31mTypeError\u001b[0m: Teacher.__init__() missing 1 required positional argument: 'teacher_name'"
     ]
    }
   ],
   "source": [
    "less_arguments = Teacher(3)"
   ]
  },
  {
   "cell_type": "code",
   "execution_count": 16,
   "id": "22433cb4",
   "metadata": {},
   "outputs": [
    {
     "name": "stdout",
     "output_type": "stream",
     "text": [
      "1 Qasim Hassan SMIT\n",
      "2 Muhammad Mehmood SMIT\n"
     ]
    }
   ],
   "source": [
    "print(obj1.teacher_id, obj1.name, obj1.organization_name)\n",
    "print(obj2.teacher_id, obj2.name, obj2.organization_name)"
   ]
  },
  {
   "cell_type": "code",
   "execution_count": 17,
   "id": "c043b4b6",
   "metadata": {},
   "outputs": [
    {
     "data": {
      "text/plain": [
       "['__class__',\n",
       " '__delattr__',\n",
       " '__dict__',\n",
       " '__dir__',\n",
       " '__doc__',\n",
       " '__eq__',\n",
       " '__format__',\n",
       " '__ge__',\n",
       " '__getattribute__',\n",
       " '__getstate__',\n",
       " '__gt__',\n",
       " '__hash__',\n",
       " '__init__',\n",
       " '__init_subclass__',\n",
       " '__le__',\n",
       " '__lt__',\n",
       " '__module__',\n",
       " '__ne__',\n",
       " '__new__',\n",
       " '__reduce__',\n",
       " '__reduce_ex__',\n",
       " '__repr__',\n",
       " '__setattr__',\n",
       " '__sizeof__',\n",
       " '__str__',\n",
       " '__subclasshook__',\n",
       " '__weakref__',\n",
       " 'name',\n",
       " 'organization_name',\n",
       " 'speak',\n",
       " 'teacher_id',\n",
       " 'teaching']"
      ]
     },
     "execution_count": 17,
     "metadata": {},
     "output_type": "execute_result"
    }
   ],
   "source": [
    "dir(obj1)"
   ]
  },
  {
   "cell_type": "code",
   "execution_count": 18,
   "id": "10a75de5",
   "metadata": {},
   "outputs": [
    {
     "data": {
      "text/plain": [
       "['name', 'organization_name', 'speak', 'teacher_id', 'teaching']"
      ]
     },
     "execution_count": 18,
     "metadata": {},
     "output_type": "execute_result"
    }
   ],
   "source": [
    "[i for i in dir(obj1) if \"__\" not in i]"
   ]
  },
  {
   "cell_type": "code",
   "execution_count": 19,
   "id": "e8ee28b8",
   "metadata": {},
   "outputs": [
    {
     "name": "stdout",
     "output_type": "stream",
     "text": [
      "1 1\n"
     ]
    }
   ],
   "source": [
    "class Teacher():\n",
    "    counter : int = 0 # Class variable1\n",
    "    help_line_number : str = \"0300-23344556\" # class variable2\n",
    "\n",
    "    def __init__(self, teacher_id : int , teacher_name : str) -> None: # method/constructor\n",
    "        self.name : str = teacher_name #self.attribute_name = value\n",
    "        self.teacher_id : int  = teacher_id\n",
    "        self.organization_name: str = \"SMIT\"\n",
    "        Teacher.counter += 1\n",
    "\n",
    "\n",
    "    def speak(self, words : str )->None: # method\n",
    "        print(f\"{self.name} is speaking {words}\")\n",
    "    \n",
    "    def teaching(self, subject : str )->None: # method\n",
    "        print(f\"{self.name} is teaching {subject}...!\")\n",
    "\n",
    "    def details(self)->None:\n",
    "        information : str = f\"\"\"\n",
    "        Teacher name is {self.name}\n",
    "        our help line number is {Teacher.help_line_number}\n",
    "        \"\"\"\n",
    "        print(information)\n",
    "\n",
    "\n",
    "obj1 : Teacher = Teacher(1,\"Qasim Hassan\")\n",
    "\n",
    "print(Teacher.counter, obj1.counter)"
   ]
  },
  {
   "cell_type": "code",
   "execution_count": 20,
   "id": "975168db",
   "metadata": {},
   "outputs": [
    {
     "data": {
      "text/plain": [
       "2626194120592"
      ]
     },
     "execution_count": 20,
     "metadata": {},
     "output_type": "execute_result"
    }
   ],
   "source": [
    "id(obj1)"
   ]
  },
  {
   "cell_type": "code",
   "execution_count": 21,
   "id": "4174f0a8",
   "metadata": {},
   "outputs": [
    {
     "name": "stdout",
     "output_type": "stream",
     "text": [
      "2 2\n"
     ]
    }
   ],
   "source": [
    "obj2 : Teacher = Teacher(2, \"Muhammad Mehmood\")\n",
    "print(Teacher.counter, obj1.counter)"
   ]
  },
  {
   "cell_type": "code",
   "execution_count": 22,
   "id": "31bccf4b",
   "metadata": {},
   "outputs": [
    {
     "data": {
      "text/plain": [
       "2626193852560"
      ]
     },
     "execution_count": 22,
     "metadata": {},
     "output_type": "execute_result"
    }
   ],
   "source": [
    "id(obj2)"
   ]
  },
  {
   "cell_type": "code",
   "execution_count": 23,
   "id": "ad5ea356",
   "metadata": {},
   "outputs": [
    {
     "name": "stdout",
     "output_type": "stream",
     "text": [
      "2\n",
      "2\n",
      "2\n",
      "0300-23344556\n",
      "0300-23344556\n",
      "0300-23344556\n"
     ]
    }
   ],
   "source": [
    "print(obj1.counter)\n",
    "print(obj2.counter)\n",
    "print(Teacher.counter)\n",
    "\n",
    "print(obj1.help_line_number)\n",
    "print(obj2.help_line_number)\n",
    "print(Teacher.help_line_number)"
   ]
  },
  {
   "cell_type": "code",
   "execution_count": 24,
   "id": "d3252f86",
   "metadata": {},
   "outputs": [
    {
     "name": "stdout",
     "output_type": "stream",
     "text": [
      "\n",
      "        Teacher name is Qasim Hassan\n",
      "        our help line number is 0300-23344556\n",
      "        \n"
     ]
    }
   ],
   "source": [
    "obj1.details()"
   ]
  },
  {
   "cell_type": "code",
   "execution_count": 26,
   "id": "b2fd8f4f",
   "metadata": {},
   "outputs": [
    {
     "name": "stdout",
     "output_type": "stream",
     "text": [
      "Brown\n",
      "black\n",
      "Parent method speak: Pakistan zinda bad!\n",
      "You are looking TV!\n",
      "======Child object=======\n",
      "You are looking Cenima!\n",
      "None\n",
      "Parent method speak: Hello World\n",
      "None\n",
      "Brown\n",
      "black\n"
     ]
    }
   ],
   "source": [
    "class Parents():\n",
    "    def __init__(self)->None:\n",
    "        self.eye_color : str = \"Brown\"\n",
    "        self.hair_color : str = \"black\"\n",
    "\n",
    "    def speak(self, words: str)->None:\n",
    "        print(f\"Parent method speak: {words}\")\n",
    "\n",
    "    def watching(sef, object_name : str)->None:\n",
    "        print(f\"You are watching {object_name}!\")\n",
    "\n",
    "\n",
    "class Child(Parents):\n",
    "    pass \n",
    "\n",
    "\n",
    "obj1 : Parents = Parents()\n",
    "print(obj1.eye_color)\n",
    "print(obj1.hair_color)\n",
    "obj1.speak(\"Pakistan zinda bad!\")\n",
    "obj1.watching(\"TV\")\n",
    "\n",
    "print(\"======Child object=======\")\n",
    "### Child object \n",
    "\n",
    "obj2 : Child = Child()\n",
    "print(obj2.watching(\"Cenima\"))\n",
    "print(obj2.speak(\"Hello World\"))\n",
    "print(obj2.eye_color)\n",
    "print(obj2.hair_color)"
   ]
  },
  {
   "cell_type": "code",
   "execution_count": null,
   "id": "8eabfc81",
   "metadata": {},
   "outputs": [],
   "source": []
  }
 ],
 "metadata": {
  "kernelspec": {
   "display_name": "Python 3 (ipykernel)",
   "language": "python",
   "name": "python3"
  },
  "language_info": {
   "codemirror_mode": {
    "name": "ipython",
    "version": 3
   },
   "file_extension": ".py",
   "mimetype": "text/x-python",
   "name": "python",
   "nbconvert_exporter": "python",
   "pygments_lexer": "ipython3",
   "version": "3.11.4"
  },
  "toc": {
   "base_numbering": 1,
   "nav_menu": {},
   "number_sections": true,
   "sideBar": true,
   "skip_h1_title": false,
   "title_cell": "Table of Contents",
   "title_sidebar": "Contents",
   "toc_cell": false,
   "toc_position": {},
   "toc_section_display": true,
   "toc_window_display": false
  }
 },
 "nbformat": 4,
 "nbformat_minor": 5
}
