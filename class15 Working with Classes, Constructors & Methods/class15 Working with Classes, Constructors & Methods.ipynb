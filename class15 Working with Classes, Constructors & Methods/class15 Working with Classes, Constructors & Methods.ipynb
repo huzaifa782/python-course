{
 "cells": [
  {
   "cell_type": "markdown",
   "id": "3d46bea3",
   "metadata": {},
   "source": [
    "### Background"
   ]
  },
  {
   "cell_type": "code",
   "execution_count": 1,
   "id": "207eb310",
   "metadata": {},
   "outputs": [
    {
     "data": {
      "text/plain": [
       "int"
      ]
     },
     "execution_count": 1,
     "metadata": {},
     "output_type": "execute_result"
    }
   ],
   "source": [
    "type(12)"
   ]
  },
  {
   "cell_type": "code",
   "execution_count": 2,
   "id": "2e9f2410",
   "metadata": {},
   "outputs": [],
   "source": [
    "list1 = [1,2,3,4,5] # lsit1 --> object"
   ]
  },
  {
   "cell_type": "code",
   "execution_count": 3,
   "id": "7f984d92",
   "metadata": {},
   "outputs": [
    {
     "data": {
      "text/plain": [
       "['__add__',\n",
       " '__class__',\n",
       " '__class_getitem__',\n",
       " '__contains__',\n",
       " '__delattr__',\n",
       " '__delitem__',\n",
       " '__dir__',\n",
       " '__doc__',\n",
       " '__eq__',\n",
       " '__format__',\n",
       " '__ge__',\n",
       " '__getattribute__',\n",
       " '__getitem__',\n",
       " '__getstate__',\n",
       " '__gt__',\n",
       " '__hash__',\n",
       " '__iadd__',\n",
       " '__imul__',\n",
       " '__init__',\n",
       " '__init_subclass__',\n",
       " '__iter__',\n",
       " '__le__',\n",
       " '__len__',\n",
       " '__lt__',\n",
       " '__mul__',\n",
       " '__ne__',\n",
       " '__new__',\n",
       " '__reduce__',\n",
       " '__reduce_ex__',\n",
       " '__repr__',\n",
       " '__reversed__',\n",
       " '__rmul__',\n",
       " '__setattr__',\n",
       " '__setitem__',\n",
       " '__sizeof__',\n",
       " '__str__',\n",
       " '__subclasshook__',\n",
       " 'append',\n",
       " 'clear',\n",
       " 'copy',\n",
       " 'count',\n",
       " 'extend',\n",
       " 'index',\n",
       " 'insert',\n",
       " 'pop',\n",
       " 'remove',\n",
       " 'reverse',\n",
       " 'sort']"
      ]
     },
     "execution_count": 3,
     "metadata": {},
     "output_type": "execute_result"
    }
   ],
   "source": [
    "dir(list1)"
   ]
  },
  {
   "cell_type": "code",
   "execution_count": null,
   "id": "b1a86fc8",
   "metadata": {},
   "outputs": [],
   "source": [
    "object = attributes(charactertistics) + Methods(Behavior)"
   ]
  },
  {
   "cell_type": "markdown",
   "id": "cf5d114b",
   "metadata": {},
   "source": [
    "### Classes"
   ]
  },
  {
   "cell_type": "code",
   "execution_count": 4,
   "id": "6eb6771e",
   "metadata": {},
   "outputs": [],
   "source": [
    "class patient():\n",
    "    pass"
   ]
  },
  {
   "cell_type": "markdown",
   "id": "b593278f",
   "metadata": {},
   "source": [
    "### Classes: Starting to build the structure"
   ]
  },
  {
   "cell_type": "raw",
   "id": "933dc14e",
   "metadata": {},
   "source": [
    "class patient(): \n",
    "    def __init__(**kuchbi**, first_name):\n",
    "        **kuchbi**.**what_ever** = first_name"
   ]
  },
  {
   "cell_type": "code",
   "execution_count": 6,
   "id": "51ce4137",
   "metadata": {},
   "outputs": [],
   "source": [
    "class patient():\n",
    "    def __init__(self, first_name):\n",
    "        self.first_name = first_name"
   ]
  },
  {
   "cell_type": "markdown",
   "id": "a2c4d4c5",
   "metadata": {},
   "source": [
    "### Classes: A bit of housekeeping"
   ]
  },
  {
   "cell_type": "code",
   "execution_count": 7,
   "id": "b78f4233",
   "metadata": {},
   "outputs": [],
   "source": [
    "class patient():\n",
    "    def __init__(self, first_name, last_name, age):\n",
    "        self.first_name = first_name\n",
    "        self.last_name = last_name\n",
    "        self.age = age"
   ]
  },
  {
   "cell_type": "markdown",
   "id": "fcbe6cd3",
   "metadata": {},
   "source": [
    "### Classes: Creating an instance"
   ]
  },
  {
   "cell_type": "code",
   "execution_count": 8,
   "id": "9fc4fce5",
   "metadata": {},
   "outputs": [],
   "source": [
    "p_qasim = patient('Qasim', 'Hassan', 19)"
   ]
  },
  {
   "cell_type": "code",
   "execution_count": 9,
   "id": "b6e3e71e",
   "metadata": {},
   "outputs": [
    {
     "data": {
      "text/plain": [
       "'Qasim'"
      ]
     },
     "execution_count": 9,
     "metadata": {},
     "output_type": "execute_result"
    }
   ],
   "source": [
    "p_qasim.first_name"
   ]
  },
  {
   "cell_type": "code",
   "execution_count": 10,
   "id": "8a42f864",
   "metadata": {},
   "outputs": [
    {
     "data": {
      "text/plain": [
       "'Hassan'"
      ]
     },
     "execution_count": 10,
     "metadata": {},
     "output_type": "execute_result"
    }
   ],
   "source": [
    "p_qasim.last_name"
   ]
  },
  {
   "cell_type": "code",
   "execution_count": 11,
   "id": "0fb2c0f6",
   "metadata": {},
   "outputs": [
    {
     "data": {
      "text/plain": [
       "19"
      ]
     },
     "execution_count": 11,
     "metadata": {},
     "output_type": "execute_result"
    }
   ],
   "source": [
    "p_qasim.age"
   ]
  },
  {
   "cell_type": "code",
   "execution_count": 12,
   "id": "7343def5",
   "metadata": {},
   "outputs": [],
   "source": [
    "p_mehmood = patient('Muhammad', 'Mehmood', 17)"
   ]
  },
  {
   "cell_type": "markdown",
   "id": "98c64f5f",
   "metadata": {},
   "source": [
    "### Classes: Getting info out of instances\n"
   ]
  },
  {
   "cell_type": "code",
   "execution_count": 16,
   "id": "67f3506c",
   "metadata": {},
   "outputs": [
    {
     "data": {
      "text/plain": [
       "17"
      ]
     },
     "execution_count": 16,
     "metadata": {},
     "output_type": "execute_result"
    }
   ],
   "source": [
    "p_mehmood.age"
   ]
  },
  {
   "cell_type": "code",
   "execution_count": 17,
   "id": "2cfcab35",
   "metadata": {},
   "outputs": [
    {
     "data": {
      "text/plain": [
       "'Muhammad'"
      ]
     },
     "execution_count": 17,
     "metadata": {},
     "output_type": "execute_result"
    }
   ],
   "source": [
    "p_mehmood.first_name"
   ]
  },
  {
   "cell_type": "code",
   "execution_count": 18,
   "id": "a5848107",
   "metadata": {},
   "outputs": [
    {
     "data": {
      "text/plain": [
       "'Mehmood'"
      ]
     },
     "execution_count": 18,
     "metadata": {},
     "output_type": "execute_result"
    }
   ],
   "source": [
    "p_mehmood.last_name"
   ]
  },
  {
   "cell_type": "markdown",
   "id": "aedd697e",
   "metadata": {},
   "source": [
    "### Classes: Building functions into them, Changing an attribute's value"
   ]
  },
  {
   "cell_type": "code",
   "execution_count": 19,
   "id": "6f6f7797",
   "metadata": {},
   "outputs": [],
   "source": [
    "def under_age(first_name, last_name, age):\n",
    "    if age < 18:\n",
    "        print(f\"{first_name} {last_name} is UNDERAGE becuase of age {age} : WARD 1\")\n",
    "    else:\n",
    "        print(f\"{first_name} {last_name} is NOT UNDERAGE becuase of age {age} : WARD 2\")"
   ]
  },
  {
   "cell_type": "code",
   "execution_count": 20,
   "id": "5ccd0592",
   "metadata": {},
   "outputs": [
    {
     "name": "stdout",
     "output_type": "stream",
     "text": [
      "Qasim Hassan is NOT UNDERAGE becuase of age 19 : WARD 2\n"
     ]
    }
   ],
   "source": [
    "under_age('Qasim', 'Hassan', 19)"
   ]
  },
  {
   "cell_type": "code",
   "execution_count": 21,
   "id": "286d3da3",
   "metadata": {},
   "outputs": [
    {
     "name": "stdout",
     "output_type": "stream",
     "text": [
      "Muhammad Mehmood is UNDERAGE becuase of age 17 : WARD 1\n"
     ]
    }
   ],
   "source": [
    "under_age('Muhammad', 'Mehmood', 17)"
   ]
  },
  {
   "cell_type": "code",
   "execution_count": 31,
   "id": "9fcdb30c",
   "metadata": {},
   "outputs": [],
   "source": [
    "class patient():\n",
    "    def __init__(self, first_name, last_name, age):\n",
    "        self.first_name = first_name\n",
    "        self.last_name = last_name\n",
    "        self.age = age\n",
    "    \n",
    "    def under_age(self):\n",
    "        if self.age < 18:\n",
    "            print(f\"{self.first_name} {self.last_name} is UNDERAGE becuase of age {self.age} : WARD 1\")\n",
    "        else:\n",
    "            print(f\"{self.first_name} {self.last_name} is NOT UNDERAGE becuase of age {self.age} : WARD 2\")\n",
    "    \n",
    "    def change_name(self, update_first_name):\n",
    "        self.first_name = update_first_name"
   ]
  },
  {
   "cell_type": "code",
   "execution_count": 32,
   "id": "40dfe8fa",
   "metadata": {},
   "outputs": [],
   "source": [
    "p_qasim = patient('Qasim', 'Hassan', 19)"
   ]
  },
  {
   "cell_type": "code",
   "execution_count": 33,
   "id": "b4b0e9f6",
   "metadata": {},
   "outputs": [
    {
     "name": "stdout",
     "output_type": "stream",
     "text": [
      "Qasim Hassan is NOT UNDERAGE becuase of age 19 : WARD 2\n"
     ]
    }
   ],
   "source": [
    "p_qasim.under_age()"
   ]
  },
  {
   "cell_type": "code",
   "execution_count": 34,
   "id": "191fe1e6",
   "metadata": {},
   "outputs": [],
   "source": [
    "p_qasim.change_name('Muhammad')"
   ]
  },
  {
   "cell_type": "code",
   "execution_count": 35,
   "id": "1650f894",
   "metadata": {},
   "outputs": [
    {
     "data": {
      "text/plain": [
       "'Muhammad'"
      ]
     },
     "execution_count": 35,
     "metadata": {},
     "output_type": "execute_result"
    }
   ],
   "source": [
    "p_qasim.first_name"
   ]
  },
  {
   "cell_type": "code",
   "execution_count": null,
   "id": "ad9c03c1",
   "metadata": {},
   "outputs": [],
   "source": [
    "TASK:\n",
    "    \n",
    "- create a class of cars\n",
    "- initialize any three attributes of a class\n",
    "- create a method of a class\n",
    "- create a method that update atleast one attribute of class car\n",
    "- initialize the class & test all above"
   ]
  },
  {
   "cell_type": "code",
   "execution_count": null,
   "id": "d72774fd",
   "metadata": {},
   "outputs": [],
   "source": []
  },
  {
   "cell_type": "code",
   "execution_count": null,
   "id": "83528814",
   "metadata": {},
   "outputs": [],
   "source": []
  }
 ],
 "metadata": {
  "kernelspec": {
   "display_name": "Python 3 (ipykernel)",
   "language": "python",
   "name": "python3"
  },
  "language_info": {
   "codemirror_mode": {
    "name": "ipython",
    "version": 3
   },
   "file_extension": ".py",
   "mimetype": "text/x-python",
   "name": "python",
   "nbconvert_exporter": "python",
   "pygments_lexer": "ipython3",
   "version": "3.11.4"
  },
  "toc": {
   "base_numbering": 1,
   "nav_menu": {},
   "number_sections": true,
   "sideBar": true,
   "skip_h1_title": false,
   "title_cell": "Table of Contents",
   "title_sidebar": "Contents",
   "toc_cell": false,
   "toc_position": {},
   "toc_section_display": true,
   "toc_window_display": false
  }
 },
 "nbformat": 4,
 "nbformat_minor": 5
}
