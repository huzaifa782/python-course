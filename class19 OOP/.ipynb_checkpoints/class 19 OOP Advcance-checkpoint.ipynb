{
 "cells": [
  {
   "cell_type": "markdown",
   "id": "00082b12",
   "metadata": {},
   "source": [
    "## Classes, Objects, Methods & Constructors"
   ]
  },
  {
   "cell_type": "code",
   "execution_count": 8,
   "id": "111ee46a",
   "metadata": {},
   "outputs": [],
   "source": [
    "class Teacher():\n",
    "    def __init__(self, teacher_id , teacher_name): # method/constructor\n",
    "        self.name = teacher_name #self.attribute_name = value\n",
    "        self.teacher_id  = teacher_id\n",
    "        self.organization_name= \"SMIT\"\n",
    "\n",
    "\n",
    "    def speak(self, words : str ): # method\n",
    "        print(f\"{self.name} is speaking {words}\")\n",
    "    \n",
    "    def teaching(self, subject : str ): # method\n",
    "        print(f\"{self.name} is teaching {subject}...!\")"
   ]
  },
  {
   "cell_type": "markdown",
   "id": "3b72af5d",
   "metadata": {},
   "source": [
    "- [https://realpython.com/python-callable-instances/](https://www.codingninjas.com/studio/library/how-everything-in-python-is-an-object)\n",
    "- [https://realpython.com/python-callable-instances/](https://realpython.com/python-callable-instances/)"
   ]
  },
  {
   "cell_type": "code",
   "execution_count": 9,
   "id": "83d41242",
   "metadata": {},
   "outputs": [],
   "source": [
    "#intialize object->calling constructor __init__() method only this time\n",
    "\n",
    "obj1 = Teacher(1,\"Qasim hassan\") \n",
    "# obj1 = object, teacher class instance\n",
    "obj2 = Teacher(2, \"Mehmood-ul-Hassan\")"
   ]
  },
  {
   "cell_type": "code",
   "execution_count": 10,
   "id": "db55023f",
   "metadata": {},
   "outputs": [
    {
     "ename": "TypeError",
     "evalue": "Teacher.__init__() missing 1 required positional argument: 'teacher_name'",
     "output_type": "error",
     "traceback": [
      "\u001b[1;31m---------------------------------------------------------------------------\u001b[0m",
      "\u001b[1;31mTypeError\u001b[0m                                 Traceback (most recent call last)",
      "Cell \u001b[1;32mIn[10], line 1\u001b[0m\n\u001b[1;32m----> 1\u001b[0m abc1 \u001b[38;5;241m=\u001b[39m Teacher(\u001b[38;5;241m3\u001b[39m)\n",
      "\u001b[1;31mTypeError\u001b[0m: Teacher.__init__() missing 1 required positional argument: 'teacher_name'"
     ]
    }
   ],
   "source": [
    "abc1 = Teacher(3)"
   ]
  },
  {
   "cell_type": "code",
   "execution_count": 11,
   "id": "7e05e748",
   "metadata": {},
   "outputs": [
    {
     "name": "stdout",
     "output_type": "stream",
     "text": [
      "Qasim hassan\n",
      "1\n",
      "SMIT\n",
      "Mehmood-ul-Hassan\n",
      "2\n",
      "SMIT\n"
     ]
    }
   ],
   "source": [
    "print(obj1.name)\n",
    "print(obj1.teacher_id)\n",
    "print(obj1.organization_name)\n",
    "\n",
    "print(obj2.name)\n",
    "print(obj2.teacher_id)\n",
    "print(obj2.organization_name)"
   ]
  },
  {
   "cell_type": "code",
   "execution_count": 12,
   "id": "69e3a631",
   "metadata": {},
   "outputs": [
    {
     "name": "stdout",
     "output_type": "stream",
     "text": [
      "Qasim hassan is teaching Python Programming...!\n"
     ]
    }
   ],
   "source": [
    "obj1.teaching(\"Python Programming\")"
   ]
  },
  {
   "cell_type": "code",
   "execution_count": 13,
   "id": "737aa28f",
   "metadata": {},
   "outputs": [
    {
     "name": "stdout",
     "output_type": "stream",
     "text": [
      "Mehmood-ul-Hassan is teaching Cloud Computing (AWS)...!\n"
     ]
    }
   ],
   "source": [
    "obj2.teaching(\"Cloud Computing (AWS)\")"
   ]
  },
  {
   "cell_type": "code",
   "execution_count": 14,
   "id": "5138aab0",
   "metadata": {},
   "outputs": [
    {
     "data": {
      "text/plain": [
       "['__class__',\n",
       " '__delattr__',\n",
       " '__dict__',\n",
       " '__dir__',\n",
       " '__doc__',\n",
       " '__eq__',\n",
       " '__format__',\n",
       " '__ge__',\n",
       " '__getattribute__',\n",
       " '__getstate__',\n",
       " '__gt__',\n",
       " '__hash__',\n",
       " '__init__',\n",
       " '__init_subclass__',\n",
       " '__le__',\n",
       " '__lt__',\n",
       " '__module__',\n",
       " '__ne__',\n",
       " '__new__',\n",
       " '__reduce__',\n",
       " '__reduce_ex__',\n",
       " '__repr__',\n",
       " '__setattr__',\n",
       " '__sizeof__',\n",
       " '__str__',\n",
       " '__subclasshook__',\n",
       " '__weakref__',\n",
       " 'name',\n",
       " 'organization_name',\n",
       " 'speak',\n",
       " 'teacher_id',\n",
       " 'teaching']"
      ]
     },
     "execution_count": 14,
     "metadata": {},
     "output_type": "execute_result"
    }
   ],
   "source": [
    "dir(obj1)"
   ]
  },
  {
   "cell_type": "code",
   "execution_count": 16,
   "id": "0bbea67f",
   "metadata": {},
   "outputs": [
    {
     "data": {
      "text/plain": [
       "['name', 'organization_name', 'speak', 'teacher_id', 'teaching']"
      ]
     },
     "execution_count": 16,
     "metadata": {},
     "output_type": "execute_result"
    }
   ],
   "source": [
    "[i for i in dir(obj1) if \"__\" not in i]"
   ]
  },
  {
   "cell_type": "code",
   "execution_count": 17,
   "id": "79c37c40",
   "metadata": {},
   "outputs": [],
   "source": [
    "class Teacher():\n",
    "    def __init__(self, teacher_id , teacher_name): # method/constructor\n",
    "        self.name = teacher_name #self.attribute_name = value\n",
    "        self.teacher_id  = teacher_id\n",
    "        self.organization_name= \"SMIT\"\n",
    "\n",
    "\n",
    "    def speak(self, words : str ): # method\n",
    "        print(f\"{self.name} is speaking {words}\")\n",
    "    \n",
    "    def teaching(self, subject : str ): # method\n",
    "        print(f\"{self.name} is teaching {subject}...!\")\n",
    "\n",
    "# obj1 = object, teacher class instance\n",
    "obj1 = Teacher(1,\"Qasim hassan\") \n",
    "obj2 = Teacher(2, \"Mehmood-ul-Hassan\")"
   ]
  },
  {
   "cell_type": "markdown",
   "id": "43aca0cc",
   "metadata": {},
   "source": [
    "### Class Variable\n",
    "\n",
    "- Class variable is Variabale of a class\n",
    "- this value use for all objects\n",
    "- `ClassName.class_variable`\n",
    "- `object_name.class_variable`\n",
    "- class `ClassName():`\n",
    "   - `class_variable1 = Value`"
   ]
  },
  {
   "cell_type": "code",
   "execution_count": 40,
   "id": "3990cbc3",
   "metadata": {},
   "outputs": [],
   "source": [
    "class Teacher():\n",
    "    counter : int = 0 # Class variable1\n",
    "    help_line_number : str = \"0315-2338675\" # class variable2\n",
    "    \n",
    "    def __init__(self, teacher_id , teacher_name): # method/constructor\n",
    "        self.name = teacher_name #self.attribute_name = value\n",
    "        self.teacher_id  = teacher_id\n",
    "        self.organization_name= \"SMIT\"\n",
    "        Teacher.counter +=1\n",
    "\n",
    "\n",
    "    def speak(self, words : str ): # method\n",
    "        print(f\"{self.name} is speaking {words}\")\n",
    "    \n",
    "    def teaching(self, subject : str ): # method\n",
    "        print(f\"{self.name} is teaching {subject}...!\")\n",
    "    \n",
    "    def details(self)->None:\n",
    "        information : str = f\"\"\"\n",
    "Teacher name is {self.name}\n",
    "our help line number is {Teacher.help_line_number}\n",
    "\n",
    "\"\"\"\n",
    "        print(information)"
   ]
  },
  {
   "cell_type": "code",
   "execution_count": 41,
   "id": "9f47f1db",
   "metadata": {},
   "outputs": [
    {
     "name": "stdout",
     "output_type": "stream",
     "text": [
      "1 1\n"
     ]
    }
   ],
   "source": [
    "# obj1 = object, teacher class instance\n",
    "obj1 = Teacher(1,\"Qasim hassan\")\n",
    "print(Teacher.counter, obj1.counter)"
   ]
  },
  {
   "cell_type": "code",
   "execution_count": 42,
   "id": "2f99d1c7",
   "metadata": {},
   "outputs": [
    {
     "data": {
      "text/plain": [
       "2140272725840"
      ]
     },
     "execution_count": 42,
     "metadata": {},
     "output_type": "execute_result"
    }
   ],
   "source": [
    "id(obj1)"
   ]
  },
  {
   "cell_type": "code",
   "execution_count": 43,
   "id": "97f8eb53",
   "metadata": {},
   "outputs": [
    {
     "name": "stdout",
     "output_type": "stream",
     "text": [
      "2 2\n"
     ]
    }
   ],
   "source": [
    "obj2 : Teacher = Teacher(2, \"Mehmood-ul-Hassan\")\n",
    "print(Teacher.counter, obj1.counter)"
   ]
  },
  {
   "cell_type": "code",
   "execution_count": 44,
   "id": "cec44a9f",
   "metadata": {},
   "outputs": [
    {
     "data": {
      "text/plain": [
       "2140267642640"
      ]
     },
     "execution_count": 44,
     "metadata": {},
     "output_type": "execute_result"
    }
   ],
   "source": [
    "id(obj2)"
   ]
  },
  {
   "cell_type": "code",
   "execution_count": 45,
   "id": "540412c5",
   "metadata": {},
   "outputs": [
    {
     "name": "stdout",
     "output_type": "stream",
     "text": [
      "2\n",
      "2\n",
      "2\n"
     ]
    }
   ],
   "source": [
    "print(obj1.counter)\n",
    "print(obj2.counter)\n",
    "print(Teacher.counter)"
   ]
  },
  {
   "cell_type": "code",
   "execution_count": 46,
   "id": "0be650bd",
   "metadata": {},
   "outputs": [
    {
     "name": "stdout",
     "output_type": "stream",
     "text": [
      "0315-2338675\n",
      "0315-2338675\n",
      "0315-2338675\n"
     ]
    }
   ],
   "source": [
    "print(obj1.help_line_number)\n",
    "print(obj2.help_line_number)\n",
    "print(Teacher.help_line_number)"
   ]
  },
  {
   "cell_type": "code",
   "execution_count": 47,
   "id": "94f135f9",
   "metadata": {},
   "outputs": [
    {
     "name": "stdout",
     "output_type": "stream",
     "text": [
      "\n",
      "Teacher name is Qasim hassan\n",
      "our help line number is 0315-2338675\n",
      "\n",
      "\n"
     ]
    }
   ],
   "source": [
    "obj1.details()"
   ]
  },
  {
   "cell_type": "code",
   "execution_count": 48,
   "id": "660f11c1",
   "metadata": {},
   "outputs": [
    {
     "name": "stdout",
     "output_type": "stream",
     "text": [
      "\n",
      "Teacher name is Mehmood-ul-Hassan\n",
      "our help line number is 0315-2338675\n",
      "\n",
      "\n"
     ]
    }
   ],
   "source": [
    "obj2.details()"
   ]
  },
  {
   "cell_type": "markdown",
   "id": "bc3adbb9",
   "metadata": {},
   "source": [
    "### Static Method and Static variable"
   ]
  },
  {
   "cell_type": "code",
   "execution_count": 141,
   "id": "801638d0",
   "metadata": {},
   "outputs": [
    {
     "name": "stdout",
     "output_type": "stream",
     "text": [
      "Addition: 30\n",
      "Multiplication: 200\n",
      "Static variable or Class variable SMIT\n"
     ]
    }
   ],
   "source": [
    "class MathOperations:\n",
    "\n",
    "    counter = 100\n",
    "    organization = \"SMIT\"\n",
    "\n",
    "    @staticmethod\n",
    "    def add(x, y):\n",
    "        \"\"\"Add two numbers.\"\"\"\n",
    "        return x + y\n",
    "\n",
    "    @staticmethod\n",
    "    def multiply(x, y):\n",
    "        \"\"\"Multiply two numbers.\"\"\"\n",
    "        return x * y\n",
    "\n",
    "# Using the static methods\n",
    "result_add = MathOperations.add(10, 20)\n",
    "result_multiply = MathOperations.multiply(10, 20)\n",
    "\n",
    "print(\"Addition:\", result_add)\n",
    "print(\"Multiplication:\", result_multiply)\n",
    "print(\"Static variable or Class variable\",MathOperations.organization)"
   ]
  },
  {
   "cell_type": "markdown",
   "id": "7aa5d202",
   "metadata": {},
   "source": [
    "## INHERITANCE\n",
    "\n",
    "`A mechanism wherein a new class inherits properties and behavior (methods) from another class. This helps to create a new class based on an existing class.`\n"
   ]
  },
  {
   "cell_type": "markdown",
   "id": "65bb2ec7",
   "metadata": {},
   "source": [
    "#### Example: 1"
   ]
  },
  {
   "cell_type": "code",
   "execution_count": 58,
   "id": "7327211d",
   "metadata": {},
   "outputs": [],
   "source": [
    "class Parents():\n",
    "    def __init__(self):\n",
    "        self.eye_color = \"Brown\"\n",
    "        self.hair_color = \"black\"\n",
    "\n",
    "    def speak(self, words):\n",
    "        print(f\"Parent method speak: {words}\")\n",
    "\n",
    "    def watching(sef, object_name):\n",
    "        print(f\"You are looking {object_name}!\")\n",
    "\n",
    "\n",
    "class Child(Parents):\n",
    "    pass "
   ]
  },
  {
   "cell_type": "code",
   "execution_count": 59,
   "id": "6a9cc58d",
   "metadata": {},
   "outputs": [
    {
     "name": "stdout",
     "output_type": "stream",
     "text": [
      "======Parents object=======\n",
      "Brown\n",
      "black\n",
      "Parent method speak: Pakistan Zinda bad!\n",
      "You are looking TV - Iahq Murshid!\n"
     ]
    }
   ],
   "source": [
    "print(\"======Parents object=======\")\n",
    "### parents object \n",
    "\n",
    "obj1 = Parents()\n",
    "print(obj1.eye_color)\n",
    "print(obj1.hair_color)\n",
    "obj1.speak(\"Pakistan Zinda bad!\")\n",
    "obj1.watching(\"TV - Iahq Murshid\")"
   ]
  },
  {
   "cell_type": "code",
   "execution_count": 60,
   "id": "882d4e86",
   "metadata": {},
   "outputs": [
    {
     "name": "stdout",
     "output_type": "stream",
     "text": [
      "======Child object=======\n",
      "You are looking re:invent!\n",
      "None\n",
      "Parent method speak: English\n",
      "None\n",
      "Brown\n",
      "black\n"
     ]
    }
   ],
   "source": [
    "print(\"======Child object=======\")\n",
    "### Child object \n",
    "\n",
    "obj2 = Child()\n",
    "print(obj2.watching(\"re:invent\"))\n",
    "print(obj2.speak(\"English\"))\n",
    "print(obj2.eye_color)\n",
    "print(obj2.hair_color)"
   ]
  },
  {
   "cell_type": "code",
   "execution_count": 61,
   "id": "749944b6",
   "metadata": {},
   "outputs": [],
   "source": [
    "class Parents():\n",
    "    def __init__(self):\n",
    "        self.eye_color = \"Brown\"\n",
    "        self.hair_color = \"black\"\n",
    "\n",
    "    def speak(self, words):\n",
    "        print(f\"Parent method speak: {words}\")\n",
    "\n",
    "    def watching(sef, object_name):\n",
    "        print(f\"You are looking {object_name}!\")\n",
    "\n",
    "\n",
    "class Child(Parents):\n",
    "    def teaching(self, subject):\n",
    "        print(f'Child method for teaching : {subject}')"
   ]
  },
  {
   "cell_type": "code",
   "execution_count": 62,
   "id": "6a79b230",
   "metadata": {},
   "outputs": [
    {
     "name": "stdout",
     "output_type": "stream",
     "text": [
      "======Parents object=======\n",
      "Brown\n",
      "black\n",
      "Parent method speak: Pakistan Zinda bad!\n",
      "You are looking TV - Iahq Murshid!\n"
     ]
    }
   ],
   "source": [
    "print(\"======Parents object=======\")\n",
    "### parents object \n",
    "\n",
    "obj1 = Parents()\n",
    "print(obj1.eye_color)\n",
    "print(obj1.hair_color)\n",
    "obj1.speak(\"Pakistan Zinda bad!\")\n",
    "obj1.watching(\"TV - Iahq Murshid\")"
   ]
  },
  {
   "cell_type": "code",
   "execution_count": 64,
   "id": "61e12ea3",
   "metadata": {},
   "outputs": [
    {
     "name": "stdout",
     "output_type": "stream",
     "text": [
      "======Child object=======\n",
      "You are looking re:invent!\n",
      "Parent method speak: English\n",
      "Brown\n",
      "black\n"
     ]
    }
   ],
   "source": [
    "print(\"======Child object=======\")\n",
    "### Child object \n",
    "\n",
    "obj2 = Child()\n",
    "obj2.watching(\"re:invent\")\n",
    "obj2.speak(\"English\")\n",
    "print(obj2.eye_color)\n",
    "print(obj2.hair_color)"
   ]
  },
  {
   "cell_type": "markdown",
   "id": "d930fb0e",
   "metadata": {},
   "source": [
    "#### Example :2"
   ]
  },
  {
   "cell_type": "code",
   "execution_count": 108,
   "id": "c5576236",
   "metadata": {},
   "outputs": [],
   "source": [
    "from typing import List\n",
    "\n",
    "class Employee():\n",
    "    def __init__(self, name):\n",
    "        self.name= name\n",
    "        self.education = \"\"\n",
    "        self.department = \"\"\n",
    "\n",
    "class Designer(Employee):\n",
    "    def __init__(self, title, name):\n",
    "        super().__init__(name)\n",
    "\n",
    "        self.title : str = title\n",
    "\n",
    "class Developer(Employee):\n",
    "    def __init__(self, title, name):\n",
    "        super().__init__(name)\n",
    "        self.title = title\n",
    "        self.programming_skills = [\"python\"]"
   ]
  },
  {
   "cell_type": "code",
   "execution_count": 109,
   "id": "ac546718",
   "metadata": {},
   "outputs": [],
   "source": [
    "designer = Designer(\"Animation Artist\",\"Asif Khan\")"
   ]
  },
  {
   "cell_type": "code",
   "execution_count": 110,
   "id": "f9702e02",
   "metadata": {},
   "outputs": [
    {
     "data": {
      "text/plain": [
       "'Animation Artist'"
      ]
     },
     "execution_count": 110,
     "metadata": {},
     "output_type": "execute_result"
    }
   ],
   "source": [
    "designer.title"
   ]
  },
  {
   "cell_type": "code",
   "execution_count": 111,
   "id": "5959e6a5",
   "metadata": {},
   "outputs": [
    {
     "data": {
      "text/plain": [
       "'Asif Khan'"
      ]
     },
     "execution_count": 111,
     "metadata": {},
     "output_type": "execute_result"
    }
   ],
   "source": [
    "designer.name"
   ]
  },
  {
   "cell_type": "code",
   "execution_count": 112,
   "id": "3397686a",
   "metadata": {},
   "outputs": [
    {
     "data": {
      "text/plain": [
       "''"
      ]
     },
     "execution_count": 112,
     "metadata": {},
     "output_type": "execute_result"
    }
   ],
   "source": [
    "designer.education"
   ]
  },
  {
   "cell_type": "code",
   "execution_count": 113,
   "id": "9481b0a7",
   "metadata": {},
   "outputs": [],
   "source": [
    "developer = Developer(\"GenAI Engineer\",\"Isfahan\")"
   ]
  },
  {
   "cell_type": "code",
   "execution_count": 114,
   "id": "e42c3987",
   "metadata": {},
   "outputs": [
    {
     "data": {
      "text/plain": [
       "'GenAI Engineer'"
      ]
     },
     "execution_count": 114,
     "metadata": {},
     "output_type": "execute_result"
    }
   ],
   "source": [
    "developer.title"
   ]
  },
  {
   "cell_type": "code",
   "execution_count": 115,
   "id": "dc317190",
   "metadata": {},
   "outputs": [
    {
     "data": {
      "text/plain": [
       "'Isfahan'"
      ]
     },
     "execution_count": 115,
     "metadata": {},
     "output_type": "execute_result"
    }
   ],
   "source": [
    "developer.name"
   ]
  },
  {
   "cell_type": "markdown",
   "id": "43583a25",
   "metadata": {},
   "source": [
    "#### Example :3 (Multiple Inheritance)"
   ]
  },
  {
   "cell_type": "code",
   "execution_count": 129,
   "id": "3137d29e",
   "metadata": {},
   "outputs": [
    {
     "name": "stdout",
     "output_type": "stream",
     "text": [
      "object height 6 Feet\n",
      "object eye color blue\n",
      "Father Speaking function: Pakistan zinda bad\n"
     ]
    }
   ],
   "source": [
    "class Mother:\n",
    "    def __init__(self,name):\n",
    "        self.name = name\n",
    "        self.eye_color = \"blue\"\n",
    "    \n",
    "    def speaking(self, words):\n",
    "        return f\"Monther Speaking function: {words}\"\n",
    "\n",
    "class Father:\n",
    "    def __init__(self, name):\n",
    "        self.name = name\n",
    "        self.height = \"6 Feet\"\n",
    "\n",
    "    def speaking(self, words):\n",
    "        return f\"Father Speaking function: {words}\"\n",
    "\n",
    "class Child(Father, Mother):\n",
    "    def __init__(self, mother_name, father_name , child_name):\n",
    "        Mother.__init__(self, mother_name)\n",
    "        Father.__init__(self, father_name)\n",
    "        self.child_name = child_name\n",
    "\n",
    "qasim= Child(\"Bakth Un Nissa\", \"Hassan Khan\",\"Qasim Hassan\")\n",
    "\n",
    "print(f\"object height {qasim.height}\")\n",
    "print(f\"object eye color {qasim.eye_color}\")\n",
    "print(qasim.speaking(\"Pakistan zinda bad\"))"
   ]
  },
  {
   "cell_type": "markdown",
   "id": "b08023ac",
   "metadata": {},
   "source": [
    "## ABSTRACTION\n",
    "\n",
    "`The concept of hiding the complex reality while exposing only the necessary parts. It helps to reduce programming complexity and effort.`"
   ]
  },
  {
   "cell_type": "markdown",
   "id": "3e642cdc",
   "metadata": {},
   "source": [
    "- A class that consists of `one or more abstract method` is called the abstract class.\n",
    "- Abstract methods `do not contain their implementation`.\n",
    "- Abstract class can be `inherited by the subclass` and abstract `method gets its definition` in the subclass.\n",
    "- Abstraction classes are meant to be the `blueprint of the other class`.\n",
    "\n",
    "- An abstract class can be useful when we are designing large functions.\n",
    "- An abstract class is also helpful to provide the standard interface for different implementations of components.\n",
    "\n",
    "\n",
    "`NOTE: Python provides the abc module to use the abstraction in the Python program.`\n",
    "\n",
    "Let's see the following syntax.`"
   ]
  },
  {
   "cell_type": "code",
   "execution_count": 117,
   "id": "102d4a53",
   "metadata": {},
   "outputs": [],
   "source": [
    "class shapes():\n",
    "    \n",
    "    #abstract method\n",
    "    def sides(self):\n",
    "        pass"
   ]
  },
  {
   "cell_type": "code",
   "execution_count": 118,
   "id": "1ba95781",
   "metadata": {},
   "outputs": [],
   "source": [
    "class triangle(shapes):\n",
    "    \n",
    "    def sides(self):\n",
    "        print('Triangle has 3 sides...')\n",
    "\n",
    "class square(shapes):\n",
    "    \n",
    "    def sides(self):\n",
    "        print('Square has 4 sides...')"
   ]
  },
  {
   "cell_type": "code",
   "execution_count": 119,
   "id": "f9f8b003",
   "metadata": {},
   "outputs": [
    {
     "name": "stdout",
     "output_type": "stream",
     "text": [
      "Triangle has 3 sides...\n"
     ]
    }
   ],
   "source": [
    "t = triangle()   \n",
    "t.sides()"
   ]
  },
  {
   "cell_type": "code",
   "execution_count": 120,
   "id": "66ce4e82",
   "metadata": {},
   "outputs": [
    {
     "name": "stdout",
     "output_type": "stream",
     "text": [
      "Square has 4 sides...\n"
     ]
    }
   ],
   "source": [
    "s = square()   \n",
    "s.sides()"
   ]
  },
  {
   "cell_type": "markdown",
   "id": "9509c0d4",
   "metadata": {},
   "source": [
    "- An Abstract class can contain the both `method normal and abstract method`."
   ]
  },
  {
   "cell_type": "markdown",
   "id": "30410a83",
   "metadata": {},
   "source": [
    "### Method Overloading"
   ]
  },
  {
   "cell_type": "code",
   "execution_count": 122,
   "id": "2704b48f",
   "metadata": {},
   "outputs": [
    {
     "name": "stdout",
     "output_type": "stream",
     "text": [
      "3\n",
      "4.0\n",
      "Hello, world!\n"
     ]
    }
   ],
   "source": [
    "from typing import overload\n",
    "\n",
    "class Adder:\n",
    "    @overload\n",
    "    def add(self, x: int, y: int) -> int:\n",
    "        ...\n",
    "        \n",
    "    @overload\n",
    "    def add(self, x: float, y: float) -> float:\n",
    "        ...\n",
    "        \n",
    "    @overload\n",
    "    def add(self, x: str, y: str) -> str:\n",
    "        ...\n",
    "        \n",
    "    \n",
    "    def add(self, x, y):\n",
    "        if isinstance(x, int) and isinstance(y, int):\n",
    "            return x + y\n",
    "        elif isinstance(x, float) and isinstance(y, float):\n",
    "            return x + y\n",
    "        elif isinstance(x, str) and isinstance(y, str):\n",
    "            return x + y\n",
    "        else:\n",
    "            raise TypeError(\"Invalid argument types!\")\n",
    "\n",
    "# Usage examples\n",
    "adder = Adder()\n",
    "result1 = adder.add(1, 2)  # Should return 3\n",
    "result2 = adder.add(1.5, 2.5)  # Should return 4.0\n",
    "result3 = adder.add(\"Hello, \", \"world!\")  # Should return \"Hello, world!\"\n",
    "\n",
    "# Overridding & polymorphism\n",
    "print(result1)\n",
    "print(result2)\n",
    "print(result3)"
   ]
  },
  {
   "cell_type": "code",
   "execution_count": 130,
   "id": "8a6fd7c6",
   "metadata": {},
   "outputs": [
    {
     "name": "stdout",
     "output_type": "stream",
     "text": [
      "3\n",
      "4.0\n",
      "Hello, world!\n"
     ]
    }
   ],
   "source": [
    "# Functions Overloading\n",
    "\n",
    "from typing import overload\n",
    "\n",
    "@overload\n",
    "def add(x: int, y: int) -> int:\n",
    "    ...\n",
    "\n",
    "@overload\n",
    "def add(x: float, y: float) -> float:\n",
    "    ...\n",
    "\n",
    "@overload\n",
    "def add(x: str, y: str) -> str:\n",
    "    ...\n",
    "\n",
    "\n",
    "def add(x, y):\n",
    "    if isinstance(x, int) and isinstance(y, int):\n",
    "        return x + y\n",
    "    elif isinstance(x, float) and isinstance(y, float):\n",
    "        return x + y\n",
    "    elif isinstance(x, str) and isinstance(y, str):\n",
    "        return x + y\n",
    "    else:\n",
    "        raise TypeError(\"Invalid argument types!\")\n",
    "\n",
    "# Usage examples\n",
    "result1 = add(1, 2)  # Should return 3\n",
    "result2 = add(1.5, 2.5)  # Should return 4.0\n",
    "result3 = add(\"Hello, \", \"world!\")  # Should return \"Hello, world!\"\n",
    "\n",
    "# Overridding & polymorphism\n",
    "print(result1)\n",
    "print(result2)\n",
    "print(result3)"
   ]
  },
  {
   "cell_type": "markdown",
   "id": "1c368b01",
   "metadata": {},
   "source": [
    "### Overriding"
   ]
  },
  {
   "cell_type": "code",
   "execution_count": 131,
   "id": "ee8ea648",
   "metadata": {},
   "outputs": [],
   "source": [
    "class Animal():\n",
    "    def eating(self,food): #same method \n",
    "        print(f\"Animal is eating {food}\")\n",
    "\n",
    "class Bird(Animal):\n",
    "    def eating(self, food):\n",
    "        print(f\"Bird is eating {food}\")"
   ]
  },
  {
   "cell_type": "code",
   "execution_count": 133,
   "id": "1130934c",
   "metadata": {},
   "outputs": [
    {
     "name": "stdout",
     "output_type": "stream",
     "text": [
      "Bird is eating bread\n"
     ]
    }
   ],
   "source": [
    "bird = Bird()\n",
    "bird.eating(\"bread\")"
   ]
  },
  {
   "cell_type": "code",
   "execution_count": 134,
   "id": "7442cae6",
   "metadata": {},
   "outputs": [
    {
     "name": "stdout",
     "output_type": "stream",
     "text": [
      "Animal is eating grass\n"
     ]
    }
   ],
   "source": [
    "animal = Animal()\n",
    "animal.eating(\"grass\")"
   ]
  },
  {
   "cell_type": "markdown",
   "id": "ccace6a0",
   "metadata": {},
   "source": [
    "### PLOYMORPHISM \n",
    "\n",
    "`The ability of different classes to respond to the same message (method call) in different ways. This allows for code to work with objects of various classes as if they were objects of a common superclass.`"
   ]
  },
  {
   "cell_type": "code",
   "execution_count": 135,
   "id": "00c64a34",
   "metadata": {},
   "outputs": [
    {
     "name": "stdout",
     "output_type": "stream",
     "text": [
      "Bird is eating grass\n"
     ]
    }
   ],
   "source": [
    "animal= Bird()# run time it will decide which object method it will be run\n",
    "animal.eating(\"grass\")"
   ]
  },
  {
   "cell_type": "code",
   "execution_count": 136,
   "id": "f582f63b",
   "metadata": {},
   "outputs": [
    {
     "name": "stdout",
     "output_type": "stream",
     "text": [
      "<class '__main__.Bird'>\n"
     ]
    }
   ],
   "source": [
    "print(type(animal))"
   ]
  },
  {
   "cell_type": "code",
   "execution_count": 137,
   "id": "f701beb6",
   "metadata": {},
   "outputs": [
    {
     "name": "stdout",
     "output_type": "stream",
     "text": [
      "Animal is eating grass\n"
     ]
    }
   ],
   "source": [
    "animal = Animal()\n",
    "animal.eating(\"grass\")"
   ]
  },
  {
   "cell_type": "code",
   "execution_count": 138,
   "id": "48e82f3a",
   "metadata": {},
   "outputs": [
    {
     "name": "stdout",
     "output_type": "stream",
     "text": [
      "<class '__main__.Animal'>\n"
     ]
    }
   ],
   "source": [
    "print(type(animal))"
   ]
  },
  {
   "cell_type": "markdown",
   "id": "e6cbfcf5",
   "metadata": {},
   "source": [
    "### 1. Inheritance\n",
    "`A mechanism wherein a new class inherits properties and behavior (methods) from another class. This helps to create a new class based on an existing class.`\n",
    "\n",
    "### 2. Abstraction\n",
    "`The concept of hiding the complex reality while exposing only the necessary parts. It helps to reduce programming complexity and effort.`\n",
    "\n",
    "### 3. Polymorphism\n",
    "`The ability of different classes to respond to the same message (method call) in different ways. This allows for code to work with objects of various classes as if they were objects of a common superclass.`\n",
    "\n",
    "### 4. Encapsulation\n",
    "`The bundling of data with the methods that operate on that data. It restricts direct access to some of an object's components and can prevent the accidental modification of data.`"
   ]
  },
  {
   "cell_type": "code",
   "execution_count": null,
   "id": "b05d5c71",
   "metadata": {},
   "outputs": [],
   "source": []
  }
 ],
 "metadata": {
  "kernelspec": {
   "display_name": "Python 3 (ipykernel)",
   "language": "python",
   "name": "python3"
  },
  "language_info": {
   "codemirror_mode": {
    "name": "ipython",
    "version": 3
   },
   "file_extension": ".py",
   "mimetype": "text/x-python",
   "name": "python",
   "nbconvert_exporter": "python",
   "pygments_lexer": "ipython3",
   "version": "3.11.5"
  }
 },
 "nbformat": 4,
 "nbformat_minor": 5
}
