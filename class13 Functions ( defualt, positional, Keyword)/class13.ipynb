{
 "cells": [
  {
   "cell_type": "markdown",
   "id": "9b7f309b",
   "metadata": {},
   "source": [
    "### simple function creation"
   ]
  },
  {
   "cell_type": "code",
   "execution_count": 5,
   "id": "69096758",
   "metadata": {},
   "outputs": [],
   "source": [
    "def calc_area():\n",
    "    length = 6\n",
    "    area = length * length\n",
    "    print(f\"area of sqaure is {area} sq.km\")"
   ]
  },
  {
   "cell_type": "code",
   "execution_count": 6,
   "id": "121cc366",
   "metadata": {},
   "outputs": [
    {
     "name": "stdout",
     "output_type": "stream",
     "text": [
      "area of sqaure is 36 sq.km\n"
     ]
    }
   ],
   "source": [
    " calc_area()"
   ]
  },
  {
   "cell_type": "markdown",
   "id": "d4cb5451",
   "metadata": {},
   "source": [
    "### function creation with `parameters`"
   ]
  },
  {
   "cell_type": "code",
   "execution_count": 7,
   "id": "d6d1fe9d",
   "metadata": {},
   "outputs": [],
   "source": [
    "def calc_area(length):\n",
    "    area = length * length\n",
    "    print(f\"area of sqaure is {area} sq.km\")"
   ]
  },
  {
   "cell_type": "code",
   "execution_count": 8,
   "id": "c09add87",
   "metadata": {},
   "outputs": [
    {
     "name": "stdout",
     "output_type": "stream",
     "text": [
      "area of sqaure is 16 sq.km\n"
     ]
    }
   ],
   "source": [
    "calc_area(4)"
   ]
  },
  {
   "cell_type": "code",
   "execution_count": 13,
   "id": "988400c9",
   "metadata": {},
   "outputs": [
    {
     "name": "stdout",
     "output_type": "stream",
     "text": [
      "area of sqaure is 36 sq.km\n"
     ]
    }
   ],
   "source": [
    "calc_area(6)"
   ]
  },
  {
   "cell_type": "code",
   "execution_count": 11,
   "id": "39c78e2e",
   "metadata": {},
   "outputs": [
    {
     "name": "stdout",
     "output_type": "stream",
     "text": [
      "Enter lenght: 7\n",
      "area of sqaure is 49 sq.km\n"
     ]
    }
   ],
   "source": [
    "l = int(input(\"Enter lenght: \")) # l will act as argument for function\n",
    "calc_area(l) "
   ]
  },
  {
   "cell_type": "markdown",
   "id": "cc4ec636",
   "metadata": {},
   "source": [
    "### function creation with`ie: defualt parameters`"
   ]
  },
  {
   "cell_type": "code",
   "execution_count": 20,
   "id": "2469b874",
   "metadata": {},
   "outputs": [],
   "source": [
    "def calc_area(length=3):\n",
    "    area = length * length\n",
    "    print(f\"area of sqaure is {area} sq.km with lenght {length}\")"
   ]
  },
  {
   "cell_type": "code",
   "execution_count": 21,
   "id": "5e1c7f0f",
   "metadata": {},
   "outputs": [
    {
     "name": "stdout",
     "output_type": "stream",
     "text": [
      "area of sqaure is 9 sq.km with lenght 3\n"
     ]
    }
   ],
   "source": [
    "calc_area()"
   ]
  },
  {
   "cell_type": "markdown",
   "id": "2cdeaa52",
   "metadata": {},
   "source": [
    "### function creation with more then one parameters"
   ]
  },
  {
   "cell_type": "code",
   "execution_count": 37,
   "id": "8d9960a3",
   "metadata": {},
   "outputs": [
    {
     "ename": "SyntaxError",
     "evalue": "non-default argument follows default argument (1374344755.py, line 1)",
     "output_type": "error",
     "traceback": [
      "\u001b[1;36m  Cell \u001b[1;32mIn [37], line 1\u001b[1;36m\u001b[0m\n\u001b[1;33m    def calc_area(length, breadth= 4, height):\u001b[0m\n\u001b[1;37m                                      ^\u001b[0m\n\u001b[1;31mSyntaxError\u001b[0m\u001b[1;31m:\u001b[0m non-default argument follows default argument\n"
     ]
    }
   ],
   "source": [
    "# NOTE: default values should be at the end of the functions paramters \n",
    "#def calc_area(length, breadth= 4, height):\n",
    "def calc_area(length, breadth, height= 4):   \n",
    "    area_of_square = length * length\n",
    "    volume = length * breadth * height\n",
    "    print(f\"area of sqaure is {area_of_square} sq.km with lenght {length}\")\n",
    "    print(f\"volume is {volume} sq.km\")"
   ]
  },
  {
   "cell_type": "code",
   "execution_count": 35,
   "id": "9dda2179",
   "metadata": {},
   "outputs": [
    {
     "name": "stdout",
     "output_type": "stream",
     "text": [
      "area of sqaure is 25 sq.km with lenght 5\n",
      "volume is 210 sq.km\n"
     ]
    }
   ],
   "source": [
    "calc_area(5, 6, 7)"
   ]
  },
  {
   "cell_type": "code",
   "execution_count": 36,
   "id": "36d921c4",
   "metadata": {},
   "outputs": [
    {
     "name": "stdout",
     "output_type": "stream",
     "text": [
      "area of sqaure is 25 sq.km with lenght 5\n",
      "volume is 150 sq.km\n"
     ]
    }
   ],
   "source": [
    "calc_area(5, 6)"
   ]
  },
  {
   "cell_type": "markdown",
   "id": "796436bd",
   "metadata": {},
   "source": [
    "### More then one parameters with positional argument"
   ]
  },
  {
   "cell_type": "code",
   "execution_count": 38,
   "id": "b4360161",
   "metadata": {},
   "outputs": [],
   "source": [
    "def calc_area(length, breadth, height= 4):   \n",
    "    area_of_square = length * length\n",
    "    volume = length * breadth * height\n",
    "    print(f\"area of sqaure is {area_of_square} sq.km with lenght {length}\")\n",
    "    print(f\"volume is {volume} sq.km\")"
   ]
  },
  {
   "cell_type": "code",
   "execution_count": 41,
   "id": "eed06129",
   "metadata": {},
   "outputs": [
    {
     "name": "stdout",
     "output_type": "stream",
     "text": [
      "Enter lenght: 3\n",
      "Enter Breadth: 4\n",
      "Enter height: 5\n",
      "area of sqaure is 16 sq.km with lenght 4\n",
      "volume is 60 sq.km\n"
     ]
    }
   ],
   "source": [
    "l = int(input(\"Enter lenght: \"))\n",
    "b = int(input(\"Enter Breadth: \"))\n",
    "h = int(input(\"Enter height: \"))\n",
    "\n",
    "calc_area(b, h, l) # ERROR & wrong values intersion"
   ]
  },
  {
   "cell_type": "code",
   "execution_count": 43,
   "id": "fef2eb18",
   "metadata": {},
   "outputs": [
    {
     "name": "stdout",
     "output_type": "stream",
     "text": [
      "Enter lenght: 3\n",
      "Enter Breadth: 4\n",
      "Enter height: 4\n",
      "area of sqaure is 9 sq.km with lenght 3\n",
      "volume is 48 sq.km\n"
     ]
    }
   ],
   "source": [
    "l = int(input(\"Enter lenght: \"))\n",
    "b = int(input(\"Enter Breadth: \"))\n",
    "h = int(input(\"Enter height: \"))\n",
    "\n",
    "calc_area(breadth=b, height=h, length=l) # ERROR & wrong values intersion"
   ]
  },
  {
   "cell_type": "markdown",
   "id": "c5690317",
   "metadata": {},
   "source": [
    "### functions with return keywords"
   ]
  },
  {
   "cell_type": "code",
   "execution_count": 44,
   "id": "d4354cb9",
   "metadata": {},
   "outputs": [],
   "source": [
    "def calc_area(length, breadth, height= 4):   \n",
    "    area_of_square = length * length\n",
    "    volume = length * breadth * height\n",
    "#     print(f\"area of sqaure is {area_of_square} sq.km with lenght {length}\")\n",
    "#     print(f\"volume is {volume} sq.km\")\n",
    "    return area_of_square, volume"
   ]
  },
  {
   "cell_type": "code",
   "execution_count": 45,
   "id": "0f5d5e85",
   "metadata": {},
   "outputs": [
    {
     "name": "stdout",
     "output_type": "stream",
     "text": [
      "Enter lenght: 3\n",
      "Enter Breadth: 4\n",
      "Enter height: 4\n"
     ]
    },
    {
     "data": {
      "text/plain": [
       "(9, 48)"
      ]
     },
     "execution_count": 45,
     "metadata": {},
     "output_type": "execute_result"
    }
   ],
   "source": [
    "l = int(input(\"Enter lenght: \"))\n",
    "b = int(input(\"Enter Breadth: \"))\n",
    "h = int(input(\"Enter height: \"))\n",
    "\n",
    "calc_area(breadth=b, height=h, length=l)"
   ]
  },
  {
   "cell_type": "code",
   "execution_count": 47,
   "id": "e5373187",
   "metadata": {},
   "outputs": [
    {
     "name": "stdout",
     "output_type": "stream",
     "text": [
      "Enter lenght: 3\n",
      "Enter Breadth: 4\n",
      "Enter height: 4\n"
     ]
    }
   ],
   "source": [
    "l = int(input(\"Enter lenght: \"))\n",
    "b = int(input(\"Enter Breadth: \"))\n",
    "h = int(input(\"Enter height: \"))\n",
    "\n",
    "area, volume = calc_area(breadth=b, height=h, length=l)"
   ]
  },
  {
   "cell_type": "code",
   "execution_count": 48,
   "id": "66dd2d47",
   "metadata": {},
   "outputs": [
    {
     "data": {
      "text/plain": [
       "9"
      ]
     },
     "execution_count": 48,
     "metadata": {},
     "output_type": "execute_result"
    }
   ],
   "source": [
    "area"
   ]
  },
  {
   "cell_type": "code",
   "execution_count": 49,
   "id": "f9f2abde",
   "metadata": {},
   "outputs": [
    {
     "data": {
      "text/plain": [
       "48"
      ]
     },
     "execution_count": 49,
     "metadata": {},
     "output_type": "execute_result"
    }
   ],
   "source": [
    "volume"
   ]
  },
  {
   "cell_type": "raw",
   "id": "9ae60e17",
   "metadata": {},
   "source": [
    "# area()\n",
    "lenght = int(input(\"enter lenght\"))\n",
    "area = lenght * lenght\n",
    "\n",
    "# vol\n",
    "breadth = int(input(\"Enter breadth\"))\n",
    "height = int(input(\"Enter height\"))\n",
    "vol = lenght * breadth * height\n",
    "\n",
    "# circumferance\n",
    "pi = 22/7\n",
    "radius = int(input(\"Enter radius\"))\n",
    "cir = pi* radius^2"
   ]
  },
  {
   "cell_type": "raw",
   "id": "a3ad669b",
   "metadata": {},
   "source": [
    "# main.py\n",
    "\n",
    "area()\n",
    "vol()\n",
    "circumferance()"
   ]
  },
  {
   "cell_type": "code",
   "execution_count": null,
   "id": "23e63669",
   "metadata": {},
   "outputs": [],
   "source": [
    "Task:\n",
    "    1- create a function without paramter that proivide full name\n",
    "    2- introduce parameters in that fucntion\n",
    "    3- set \"middle name\" of a person as default paramter\n",
    "    4- intoruce the `return` keyword in the function definition\n",
    "    5- validate the concept of positional arguments\n",
    "    6- functions within functions\n",
    "    7- kwargs using **\n",
    "    8- args with *"
   ]
  },
  {
   "cell_type": "code",
   "execution_count": 57,
   "id": "eec0a80d",
   "metadata": {},
   "outputs": [],
   "source": [
    "def full_name(first_name,last_name,middle_name = \"\"):\n",
    "    return f'{first_name} {middle_name} {last_name}'"
   ]
  },
  {
   "cell_type": "code",
   "execution_count": 58,
   "id": "bd244da8",
   "metadata": {},
   "outputs": [
    {
     "data": {
      "text/plain": [
       "'ammad  mohsin'"
      ]
     },
     "execution_count": 58,
     "metadata": {},
     "output_type": "execute_result"
    }
   ],
   "source": [
    "full_name(\"ammad\",\"mohsin\")"
   ]
  },
  {
   "cell_type": "code",
   "execution_count": 59,
   "id": "611164bf",
   "metadata": {},
   "outputs": [
    {
     "data": {
      "text/plain": [
       "'ammad bin mohsin'"
      ]
     },
     "execution_count": 59,
     "metadata": {},
     "output_type": "execute_result"
    }
   ],
   "source": [
    "full_name(\"ammad\",\"mohsin\",\"bin\")"
   ]
  },
  {
   "cell_type": "code",
   "execution_count": 60,
   "id": "c3dc070f",
   "metadata": {},
   "outputs": [
    {
     "data": {
      "text/plain": [
       "'ammad bin mohisn'"
      ]
     },
     "execution_count": 60,
     "metadata": {},
     "output_type": "execute_result"
    }
   ],
   "source": [
    "full_name(last_name=\"mohisn\",middle_name=\"bin\",first_name=\"ammad\")"
   ]
  },
  {
   "cell_type": "code",
   "execution_count": 68,
   "id": "334efe4a",
   "metadata": {},
   "outputs": [],
   "source": [
    "# we have created function with in function\n",
    "\n",
    "def calculation(num1, num2):\n",
    "    \n",
    "    def add(num1, num2):\n",
    "        return num1 + num2\n",
    "    \n",
    "    def sub(num1, num2):\n",
    "        return num1 - num2\n",
    "    \n",
    "    print(add(num1, num2))\n",
    "    print(sub(num1, num2))"
   ]
  },
  {
   "cell_type": "code",
   "execution_count": 69,
   "id": "5eb6756c",
   "metadata": {},
   "outputs": [
    {
     "name": "stdout",
     "output_type": "stream",
     "text": [
      "8\n",
      "2\n"
     ]
    }
   ],
   "source": [
    "calculation(5, 3)"
   ]
  },
  {
   "cell_type": "code",
   "execution_count": 70,
   "id": "4c847a54",
   "metadata": {},
   "outputs": [],
   "source": [
    "# we have call function with in function\n",
    "\n",
    "def add(num1, num2):\n",
    "    return num1 + num2\n",
    "    \n",
    "def sub(num1, num2):\n",
    "    return num1 - num2\n",
    "\n",
    "def calculation(num1, num2):   \n",
    "    print(add(num1, num2))\n",
    "    print(sub(num1, num2))"
   ]
  },
  {
   "cell_type": "code",
   "execution_count": 71,
   "id": "cf917d35",
   "metadata": {},
   "outputs": [
    {
     "name": "stdout",
     "output_type": "stream",
     "text": [
      "9\n",
      "1\n"
     ]
    }
   ],
   "source": [
    "calculation(5,4)"
   ]
  },
  {
   "cell_type": "markdown",
   "id": "da281100",
   "metadata": {},
   "source": [
    "### working with flexible number of arguments using `*`"
   ]
  },
  {
   "cell_type": "code",
   "execution_count": 93,
   "id": "f8a14922",
   "metadata": {},
   "outputs": [],
   "source": [
    "def add(num1, num2, *nums):\n",
    "    print(num1)\n",
    "    print(num2)\n",
    "    print(*nums)\n",
    "    added = num1+ num2\n",
    "    \n",
    "    for i in nums:\n",
    "        added += i\n",
    "    \n",
    "    print(added)"
   ]
  },
  {
   "cell_type": "code",
   "execution_count": 94,
   "id": "b2c1e486",
   "metadata": {},
   "outputs": [
    {
     "name": "stdout",
     "output_type": "stream",
     "text": [
      "3\n",
      "4\n",
      "5 6\n",
      "18\n"
     ]
    }
   ],
   "source": [
    "add(3,4,5,6)"
   ]
  },
  {
   "cell_type": "markdown",
   "id": "70193b4c",
   "metadata": {},
   "source": [
    "### working with flexible number of arguments using `**`"
   ]
  },
  {
   "cell_type": "code",
   "execution_count": 104,
   "id": "f35b0e6f",
   "metadata": {},
   "outputs": [],
   "source": [
    "def add(num1, num2, **nums):\n",
    "    print(num1)\n",
    "    print(num2)\n",
    "    print(nums)\n",
    "    added = num1 + num2\n",
    "    for key, value in nums.items():\n",
    "        added += value \n",
    "    print(added)"
   ]
  },
  {
   "cell_type": "code",
   "execution_count": 105,
   "id": "3fbd79c9",
   "metadata": {},
   "outputs": [
    {
     "ename": "TypeError",
     "evalue": "add() takes 2 positional arguments but 4 were given",
     "output_type": "error",
     "traceback": [
      "\u001b[1;31m---------------------------------------------------------------------------\u001b[0m",
      "\u001b[1;31mTypeError\u001b[0m                                 Traceback (most recent call last)",
      "Cell \u001b[1;32mIn [105], line 1\u001b[0m\n\u001b[1;32m----> 1\u001b[0m \u001b[43madd\u001b[49m\u001b[43m(\u001b[49m\u001b[38;5;241;43m3\u001b[39;49m\u001b[43m,\u001b[49m\u001b[38;5;241;43m4\u001b[39;49m\u001b[43m,\u001b[49m\u001b[38;5;241;43m5\u001b[39;49m\u001b[43m,\u001b[49m\u001b[38;5;241;43m6\u001b[39;49m\u001b[43m)\u001b[49m\n",
      "\u001b[1;31mTypeError\u001b[0m: add() takes 2 positional arguments but 4 were given"
     ]
    }
   ],
   "source": [
    "add(3,4,5,6)"
   ]
  },
  {
   "cell_type": "code",
   "execution_count": 106,
   "id": "be9b97ac",
   "metadata": {},
   "outputs": [
    {
     "name": "stdout",
     "output_type": "stream",
     "text": [
      "3\n",
      "4\n",
      "{'num3': 5, 'num4': 6}\n",
      "18\n"
     ]
    }
   ],
   "source": [
    "add(3,4, num3=5,num4=6)"
   ]
  },
  {
   "cell_type": "code",
   "execution_count": null,
   "id": "9dd4fdec",
   "metadata": {},
   "outputs": [],
   "source": []
  }
 ],
 "metadata": {
  "kernelspec": {
   "display_name": "Python 3 (ipykernel)",
   "language": "python",
   "name": "python3"
  },
  "language_info": {
   "codemirror_mode": {
    "name": "ipython",
    "version": 3
   },
   "file_extension": ".py",
   "mimetype": "text/x-python",
   "name": "python",
   "nbconvert_exporter": "python",
   "pygments_lexer": "ipython3",
   "version": "3.11.4"
  },
  "toc": {
   "base_numbering": 1,
   "nav_menu": {},
   "number_sections": true,
   "sideBar": true,
   "skip_h1_title": false,
   "title_cell": "Table of Contents",
   "title_sidebar": "Contents",
   "toc_cell": false,
   "toc_position": {},
   "toc_section_display": true,
   "toc_window_display": false
  }
 },
 "nbformat": 4,
 "nbformat_minor": 5
}
