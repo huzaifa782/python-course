{
 "cells": [
  {
   "cell_type": "code",
   "execution_count": 2,
   "id": "5a81fec6",
   "metadata": {},
   "outputs": [
    {
     "name": "stdout",
     "output_type": "stream",
     "text": [
      "Enter Your Name: Qasim\n",
      "0 Welcome Qasim\n",
      "Enter Your Name: Muneeb\n",
      "1 Welcome Muneeb\n",
      "Enter Your Name: Khan\n",
      "2 Welcome Khan\n",
      "Enter Your Name: Hassan\n",
      "3 Welcome Hassan\n",
      "Enter Your Name: Mehmood\n",
      "4 Welcome Mehmood\n"
     ]
    }
   ],
   "source": [
    "for i in range(5):\n",
    "    user = input(\"Enter Your Name: \")\n",
    "    print(f\"{i} Welcome {user}\")"
   ]
  },
  {
   "cell_type": "code",
   "execution_count": 6,
   "id": "6ddfd9ec",
   "metadata": {},
   "outputs": [],
   "source": [
    "condition = \"q\"\n",
    "while condition != 'q':"
   ]
  },
  {
   "cell_type": "code",
   "execution_count": 9,
   "id": "dcb568ed",
   "metadata": {},
   "outputs": [
    {
     "name": "stdout",
     "output_type": "stream",
     "text": [
      "Enter Name: Qasim\n",
      "Welcome Qasim\n",
      "Enter Name: Hassan\n",
      "Welcome Hassan\n",
      "Enter Name: q\n"
     ]
    }
   ],
   "source": [
    "user_input = \"\"\n",
    "while user_input != \"q\":\n",
    "    user_input = input(\"Enter Name: \")\n",
    "    if user_input != \"q\":\n",
    "        print(f\"Welcome {user_input}\")"
   ]
  },
  {
   "cell_type": "code",
   "execution_count": 10,
   "id": "eb3fd9af",
   "metadata": {},
   "outputs": [
    {
     "name": "stdout",
     "output_type": "stream",
     "text": [
      "Enter a city, or q to quit:Karachi\n",
      "Enter a city, or q to quit:Cheyenne\n",
      "It's one of the cleanest cities\n",
      "Enter a city, or q to quit:q\n"
     ]
    }
   ],
   "source": [
    "cleanest_cities = [\"Cheyenne\",\n",
    "                   \"Santa Fe\", \n",
    "                   \"Tucson\", \n",
    "                   \"Great Falls\", \n",
    "                   \"Honolulu\"]\n",
    "user_input = \"\"\n",
    "while user_input != \"q\":\n",
    "    user_input = input(\"Enter a city, or q to quit:\")\n",
    "    if user_input != \"q\":\n",
    "        for a_clean_city in cleanest_cities:\n",
    "            if user_input == a_clean_city:\n",
    "                print(\"It's one of the cleanest cities\")\n",
    "                break"
   ]
  },
  {
   "cell_type": "code",
   "execution_count": 11,
   "id": "81ebad76",
   "metadata": {},
   "outputs": [
    {
     "name": "stdout",
     "output_type": "stream",
     "text": [
      "Enter a city, or q to quit:Qasim\n",
      "Enter a city, or q to quit:Hassan\n",
      "Enter a city, or q to quit:q\n"
     ]
    }
   ],
   "source": [
    "cleanest_cities = [\"Cheyenne\",\n",
    "                   \"Santa Fe\", \n",
    "                   \"Tucson\", \n",
    "                   \"Great Falls\", \n",
    "                   \"Honolulu\"]\n",
    "boolean_flag = True\n",
    "while boolean_flag:\n",
    "    user_input = input(\"Enter a city, or q to quit:\")\n",
    "    if user_input != \"q\":\n",
    "        for a_clean_city in cleanest_cities:\n",
    "            if user_input == a_clean_city:\n",
    "                print(\"It's one of the cleanest cities\")\n",
    "                break\n",
    "    else:\n",
    "        boolean_flag = False"
   ]
  },
  {
   "cell_type": "markdown",
   "id": "537f57b2",
   "metadata": {},
   "source": [
    "### List comprehension"
   ]
  },
  {
   "cell_type": "code",
   "execution_count": 14,
   "id": "1f289912",
   "metadata": {},
   "outputs": [
    {
     "name": "stdout",
     "output_type": "stream",
     "text": [
      "['apple', 'banana', 'mango']\n"
     ]
    }
   ],
   "source": [
    "fruits = [\"apple\", \"banana\", \"cherry\", \"kiwi\", \"mango\"]\n",
    "newlist = []\n",
    "\n",
    "for x in fruits:\n",
    "    if \"a\" in x:\n",
    "        newlist.append(x)\n",
    "\n",
    "print(newlist)"
   ]
  },
  {
   "cell_type": "code",
   "execution_count": 18,
   "id": "5e926cf5",
   "metadata": {},
   "outputs": [],
   "source": [
    "fruits = [\"apple\", \"banana\", \"cherry\", \"kiwi\", \"mango\"]\n",
    "\n",
    "new_list= [x for x in fruits if 'a' in x]"
   ]
  },
  {
   "cell_type": "code",
   "execution_count": 19,
   "id": "bf34cabf",
   "metadata": {},
   "outputs": [
    {
     "name": "stdout",
     "output_type": "stream",
     "text": [
      "['apple', 'banana', 'mango']\n"
     ]
    }
   ],
   "source": [
    "print(newlist)"
   ]
  },
  {
   "cell_type": "code",
   "execution_count": 12,
   "id": "fe2f3f36",
   "metadata": {},
   "outputs": [],
   "source": [
    "cleanest_cities = [\"Cheyenne\",\n",
    "                   \"Santa Fe\", \n",
    "                   \"Tucson\", \n",
    "                   \"Great Falls\", \n",
    "                   \"Honolulu\"]"
   ]
  },
  {
   "cell_type": "code",
   "execution_count": null,
   "id": "98bb2273",
   "metadata": {},
   "outputs": [],
   "source": [
    "user_input = input(\"Enter a city, or q to quit:\")\n",
    "for a_clean_city in cleanest_cities:\n",
    "    if user_input == a_clean_city:\n",
    "        print(\"It's one of the cleanest cities\")"
   ]
  },
  {
   "cell_type": "code",
   "execution_count": 22,
   "id": "96f1c256",
   "metadata": {},
   "outputs": [
    {
     "name": "stdout",
     "output_type": "stream",
     "text": [
      "Enter a city, or q to quit:Honolulu\n"
     ]
    }
   ],
   "source": [
    "user_input = input(\"Enter a city, or q to quit:\")"
   ]
  },
  {
   "cell_type": "code",
   "execution_count": 23,
   "id": "7c392535",
   "metadata": {},
   "outputs": [
    {
     "data": {
      "text/plain": [
       "[True]"
      ]
     },
     "execution_count": 23,
     "metadata": {},
     "output_type": "execute_result"
    }
   ],
   "source": [
    "[True for a_clean_city in cleanest_cities if user_input == a_clean_city]"
   ]
  },
  {
   "cell_type": "code",
   "execution_count": 26,
   "id": "dd1d1b32",
   "metadata": {},
   "outputs": [
    {
     "name": "stdout",
     "output_type": "stream",
     "text": [
      "Even[2, 4, 6, 8]\n",
      "Odd [1, 3, 5, 7, 9]\n"
     ]
    }
   ],
   "source": [
    "number = [1,2,3,4,5,6,7,8,9]\n",
    "even= [num for num in number if num % 2 == 0]\n",
    "odd = [num for num in number if num % 2 != 0]\n",
    "print(f\"Even {even}\")\n",
    "print(f\"Odd {odd}\")"
   ]
  },
  {
   "cell_type": "code",
   "execution_count": 28,
   "id": "a6b967f5",
   "metadata": {},
   "outputs": [
    {
     "name": "stdout",
     "output_type": "stream",
     "text": [
      "[False, True, False, True, False, True, False, True, False]\n"
     ]
    }
   ],
   "source": [
    "number = [1,2,3,4,5,6,7,8,9]\n",
    "bool_list = [True if num % 2 == 0 else False for num in number ]\n",
    "print(bool_list)"
   ]
  },
  {
   "cell_type": "markdown",
   "id": "41ac8379",
   "metadata": {},
   "source": [
    "### Lambda function"
   ]
  },
  {
   "cell_type": "code",
   "execution_count": 29,
   "id": "9069ed26",
   "metadata": {},
   "outputs": [],
   "source": [
    "def cal(num1, num2):\n",
    "    return num1 + num2"
   ]
  },
  {
   "cell_type": "code",
   "execution_count": 31,
   "id": "8700683a",
   "metadata": {},
   "outputs": [
    {
     "name": "stdout",
     "output_type": "stream",
     "text": [
      "6\n"
     ]
    }
   ],
   "source": [
    "result = cal(2,4)\n",
    "print(result)"
   ]
  },
  {
   "cell_type": "code",
   "execution_count": 34,
   "id": "3bf96f8a",
   "metadata": {},
   "outputs": [
    {
     "name": "stdout",
     "output_type": "stream",
     "text": [
      "6\n"
     ]
    }
   ],
   "source": [
    "x = lambda num1, num2 : num1 + num2\n",
    "print(x(2,4))"
   ]
  },
  {
   "cell_type": "code",
   "execution_count": 33,
   "id": "4b973d7d",
   "metadata": {},
   "outputs": [
    {
     "data": {
      "text/plain": [
       "function"
      ]
     },
     "execution_count": 33,
     "metadata": {},
     "output_type": "execute_result"
    }
   ],
   "source": [
    "type(x)"
   ]
  },
  {
   "cell_type": "code",
   "execution_count": 35,
   "id": "666f09b0",
   "metadata": {},
   "outputs": [
    {
     "name": "stdout",
     "output_type": "stream",
     "text": [
      "25\n"
     ]
    }
   ],
   "source": [
    "x = lambda a : a**2\n",
    "print(x(5))"
   ]
  },
  {
   "cell_type": "code",
   "execution_count": 37,
   "id": "201089d3",
   "metadata": {},
   "outputs": [
    {
     "name": "stdout",
     "output_type": "stream",
     "text": [
      "Hello Qasim\n"
     ]
    }
   ],
   "source": [
    "x = lambda a : \"Hello \"+ a\n",
    "print(x(\"Qasim\"))"
   ]
  },
  {
   "cell_type": "code",
   "execution_count": null,
   "id": "970adb62",
   "metadata": {},
   "outputs": [],
   "source": []
  }
 ],
 "metadata": {
  "kernelspec": {
   "display_name": "Python 3 (ipykernel)",
   "language": "python",
   "name": "python3"
  },
  "language_info": {
   "codemirror_mode": {
    "name": "ipython",
    "version": 3
   },
   "file_extension": ".py",
   "mimetype": "text/x-python",
   "name": "python",
   "nbconvert_exporter": "python",
   "pygments_lexer": "ipython3",
   "version": "3.11.4"
  },
  "toc": {
   "base_numbering": 1,
   "nav_menu": {},
   "number_sections": true,
   "sideBar": true,
   "skip_h1_title": false,
   "title_cell": "Table of Contents",
   "title_sidebar": "Contents",
   "toc_cell": false,
   "toc_position": {},
   "toc_section_display": true,
   "toc_window_display": false
  }
 },
 "nbformat": 4,
 "nbformat_minor": 5
}
