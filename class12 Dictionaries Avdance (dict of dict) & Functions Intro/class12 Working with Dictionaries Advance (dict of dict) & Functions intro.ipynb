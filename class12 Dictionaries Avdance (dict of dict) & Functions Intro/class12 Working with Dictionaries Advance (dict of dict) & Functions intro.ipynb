{
 "cells": [
  {
   "cell_type": "code",
   "execution_count": 1,
   "id": "2c99cf7f",
   "metadata": {},
   "outputs": [
    {
     "name": "stdout",
     "output_type": "stream",
     "text": [
      "Enter the number of voters: 5\n",
      "Candidates:\n",
      "1. Candidate A\n",
      "2. Candidate B\n",
      "3. Candidate C\n",
      "Enter the number corresponding to your vote: 1\n",
      "Vote for Candidate A recorded.\n",
      "Candidates:\n",
      "1. Candidate A\n",
      "2. Candidate B\n",
      "3. Candidate C\n",
      "Enter the number corresponding to your vote: 2\n",
      "Vote for Candidate B recorded.\n",
      "Candidates:\n",
      "1. Candidate A\n",
      "2. Candidate B\n",
      "3. Candidate C\n",
      "Enter the number corresponding to your vote: 3\n",
      "Vote for Candidate C recorded.\n",
      "Candidates:\n",
      "1. Candidate A\n",
      "2. Candidate B\n",
      "3. Candidate C\n",
      "Enter the number corresponding to your vote: 1\n",
      "Vote for Candidate A recorded.\n",
      "Candidates:\n",
      "1. Candidate A\n",
      "2. Candidate B\n",
      "3. Candidate C\n",
      "Enter the number corresponding to your vote: 2\n",
      "Vote for Candidate B recorded.\n",
      "\n",
      "Voting Results:\n",
      "Candidate A: 2 votes\n",
      "Candidate B: 2 votes\n",
      "Candidate C: 1 votes\n"
     ]
    }
   ],
   "source": [
    "# Voting System Program\n",
    "\n",
    "candidates = ['Candidate A', 'Candidate B', 'Candidate C']\n",
    "votes = {candidate: 0 for candidate in candidates}\n",
    "\n",
    "num_voters = int(input(\"Enter the number of voters: \"))\n",
    "\n",
    "for _ in range(num_voters):\n",
    "    print(\"Candidates:\")\n",
    "    for i, candidate in enumerate(candidates, start=1):\n",
    "        print(f\"{i}. {candidate}\")\n",
    "\n",
    "    vote = int(input(\"Enter the number corresponding to your vote: \"))\n",
    "    \n",
    "    if 1 <= vote <= len(candidates):\n",
    "        selected_candidate = candidates[vote - 1]\n",
    "        votes[selected_candidate] += 1\n",
    "        print(f\"Vote for {selected_candidate} recorded.\")\n",
    "    else:\n",
    "        print(\"Invalid vote. Please choose a valid candidate.\")\n",
    "\n",
    "# Display results\n",
    "print(\"\\nVoting Results:\")\n",
    "for candidate, vote_count in votes.items():\n",
    "    print(f\"{candidate}: {vote_count} votes\")"
   ]
  },
  {
   "cell_type": "code",
   "execution_count": null,
   "id": "a1fc2bd1",
   "metadata": {},
   "outputs": [],
   "source": [
    "customers = [\n",
    "    {\"customer id\": 0,\n",
    "     \"first name\":\"John\",\n",
    "     \"last name\": \"Ogden\",\n",
    "     \"address\": \"301 Arbor Rd.\",},\n",
    "    {\"customer id\": 1,\n",
    "     \"first name\":\"Ann\",\n",
    "     \"last name\": \"Sattermyer\",\n",
    "     \"address\": \"PO Box 1145\",},\n",
    "    {\"customer id\": 2,\n",
    "     \"first name\":\"Jill\",\n",
    "     \"last name\": \"Somers\",\n",
    "     \"address\": \"3 Main St.\",},\n",
    "]"
   ]
  },
  {
   "cell_type": "code",
   "execution_count": 2,
   "id": "fb3a5e7f",
   "metadata": {},
   "outputs": [],
   "source": [
    "dict_of_dict = {\n",
    "    \"customer 1\":  {\"customer id\": 0,\n",
    "                    \"first name\":\"John\",\n",
    "                    \"last name\": \"Ogden\",\n",
    "                    \"address\": \"301 Arbor Rd.\",},\n",
    "    \"customer 2\" : {\"customer id\": 1,\n",
    "                    \"first name\":\"Ann\",\n",
    "                    \"last name\": \"Sattermyer\",\n",
    "                    \"address\": \"PO Box 1145\",},\n",
    "    \"customer 3\" : {\"customer id\": 2,\n",
    "                    \"first name\":\"Jill\",\n",
    "                    \"last name\": \"Somers\",\n",
    "                    \"address\": \"3 Main St.\",} \n",
    "}"
   ]
  },
  {
   "cell_type": "code",
   "execution_count": 3,
   "id": "c05c7409",
   "metadata": {},
   "outputs": [
    {
     "data": {
      "text/plain": [
       "{'customer id': 0,\n",
       " 'first name': 'John',\n",
       " 'last name': 'Ogden',\n",
       " 'address': '301 Arbor Rd.'}"
      ]
     },
     "execution_count": 3,
     "metadata": {},
     "output_type": "execute_result"
    }
   ],
   "source": [
    "dict_of_dict[\"customer 1\"]"
   ]
  },
  {
   "cell_type": "code",
   "execution_count": 4,
   "id": "46048e11",
   "metadata": {},
   "outputs": [
    {
     "data": {
      "text/plain": [
       "'301 Arbor Rd.'"
      ]
     },
     "execution_count": 4,
     "metadata": {},
     "output_type": "execute_result"
    }
   ],
   "source": [
    "dict_of_dict[\"customer 1\"]['address']"
   ]
  },
  {
   "cell_type": "code",
   "execution_count": 5,
   "id": "c43d8f75",
   "metadata": {},
   "outputs": [
    {
     "ename": "TypeError",
     "evalue": "unhashable type: 'slice'",
     "output_type": "error",
     "traceback": [
      "\u001b[1;31m---------------------------------------------------------------------------\u001b[0m",
      "\u001b[1;31mTypeError\u001b[0m                                 Traceback (most recent call last)",
      "Cell \u001b[1;32mIn [5], line 1\u001b[0m\n\u001b[1;32m----> 1\u001b[0m \u001b[43mdict_of_dict\u001b[49m\u001b[43m[\u001b[49m\u001b[38;5;124;43m\"\u001b[39;49m\u001b[38;5;124;43mcustomer 1\u001b[39;49m\u001b[38;5;124;43m\"\u001b[39;49m\u001b[43m]\u001b[49m\u001b[43m[\u001b[49m\u001b[43m:\u001b[49m\u001b[43m]\u001b[49m\n",
      "\u001b[1;31mTypeError\u001b[0m: unhashable type: 'slice'"
     ]
    }
   ],
   "source": [
    "dict_of_dict[\"customer 1\"][:]"
   ]
  },
  {
   "cell_type": "code",
   "execution_count": 16,
   "id": "c03211f4",
   "metadata": {},
   "outputs": [
    {
     "name": "stdout",
     "output_type": "stream",
     "text": [
      "John\n",
      "Ogden\n",
      "301 Arbor Rd.\n"
     ]
    }
   ],
   "source": [
    "for value in dict_of_dict[\"customer 1\"].keys():\n",
    "    if value == \"customer id\":\n",
    "        continue\n",
    "    print(dict_of_dict[\"customer 1\"][value])"
   ]
  },
  {
   "cell_type": "code",
   "execution_count": 17,
   "id": "d0577fb0",
   "metadata": {},
   "outputs": [
    {
     "data": {
      "text/plain": [
       "['John', 'Ogden', '301 Arbor Rd.']"
      ]
     },
     "execution_count": 17,
     "metadata": {},
     "output_type": "execute_result"
    }
   ],
   "source": [
    "list(dict_of_dict[\"customer 1\"].values())[1:]"
   ]
  },
  {
   "cell_type": "markdown",
   "id": "a809531a",
   "metadata": {},
   "source": [
    "### FUNCTIONS"
   ]
  },
  {
   "cell_type": "code",
   "execution_count": 18,
   "id": "70211cd6",
   "metadata": {},
   "outputs": [
    {
     "data": {
      "text/plain": [
       "5"
      ]
     },
     "execution_count": 18,
     "metadata": {},
     "output_type": "execute_result"
    }
   ],
   "source": [
    "2 + 3"
   ]
  },
  {
   "cell_type": "code",
   "execution_count": 19,
   "id": "87f25138",
   "metadata": {},
   "outputs": [
    {
     "name": "stdout",
     "output_type": "stream",
     "text": [
      "Enter number 1: 2\n",
      "Enter number 2: 3\n"
     ]
    },
    {
     "data": {
      "text/plain": [
       "5"
      ]
     },
     "execution_count": 19,
     "metadata": {},
     "output_type": "execute_result"
    }
   ],
   "source": [
    "bio = int(input(\"Enter marks bio: \"))\n",
    "chem = int(input(\"Enter marks chem: \"))\n",
    "eng = int(input(\"Enter marks eng: \"))\n",
    "phy = int(input(\"Enter marks phy: \"))\n",
    "\n",
    "total_marks = 400\n",
    "obtain_marks = bio+chem+eng+phy\n",
    "percentage = (obtain_marks * 100)/total_marks"
   ]
  },
  {
   "cell_type": "raw",
   "id": "f010c8f3",
   "metadata": {},
   "source": [
    "def <function_name>(<paramters>):\n",
    "    <function_body>"
   ]
  },
  {
   "cell_type": "code",
   "execution_count": 28,
   "id": "48abdbf3",
   "metadata": {},
   "outputs": [],
   "source": [
    "def calc_percentage_no_params():\n",
    "    bio = int(input(\"Enter marks bio: \"))\n",
    "    chem = int(input(\"Enter marks chem: \"))\n",
    "    eng = int(input(\"Enter marks eng: \"))\n",
    "    phy = int(input(\"Enter marks phy: \"))\n",
    "\n",
    "    total_marks = 400\n",
    "    obtain_marks = bio+chem+eng+phy\n",
    "    percentage = (obtain_marks * 100)/total_marks\n",
    "    print(f\"percentage is {percentage}\")"
   ]
  },
  {
   "cell_type": "code",
   "execution_count": 29,
   "id": "37645386",
   "metadata": {},
   "outputs": [
    {
     "name": "stdout",
     "output_type": "stream",
     "text": [
      "Enter marks bio: 23\n",
      "Enter marks chem: 34\n",
      "Enter marks eng: 65\n",
      "Enter marks phy: 34\n",
      "percentage is 39.0\n"
     ]
    }
   ],
   "source": [
    "calc_percentage_no_params()"
   ]
  },
  {
   "cell_type": "code",
   "execution_count": 26,
   "id": "3d375193",
   "metadata": {},
   "outputs": [],
   "source": [
    "def calculate_percenatge(bio, chem, eng, phy):\n",
    "    total_marks = 400\n",
    "    obtain_marks = bio+chem+eng+phy\n",
    "    percentage = (obtain_marks * 100)/total_marks\n",
    "    print(f\"percentage is {percentage}\")"
   ]
  },
  {
   "cell_type": "code",
   "execution_count": 30,
   "id": "3abf6b29",
   "metadata": {},
   "outputs": [
    {
     "name": "stdout",
     "output_type": "stream",
     "text": [
      "percentage is 36.75\n"
     ]
    }
   ],
   "source": [
    "calculate_percenatge(23, 24, 45, 55)"
   ]
  },
  {
   "cell_type": "code",
   "execution_count": 31,
   "id": "e6bb2775",
   "metadata": {},
   "outputs": [
    {
     "name": "stdout",
     "output_type": "stream",
     "text": [
      "percentage is 51.75\n"
     ]
    }
   ],
   "source": [
    "calculate_percenatge(53, 54, 45, 55)"
   ]
  },
  {
   "cell_type": "code",
   "execution_count": 27,
   "id": "26925fc5",
   "metadata": {},
   "outputs": [
    {
     "name": "stdout",
     "output_type": "stream",
     "text": [
      "Enter marks bio: 23\n",
      "Enter marks chem: 23\n",
      "Enter marks eng: 23\n",
      "Enter marks phy: 23\n",
      "percentage is 23.0\n"
     ]
    }
   ],
   "source": [
    "bio = int(input(\"Enter marks bio: \"))\n",
    "chem = int(input(\"Enter marks chem: \"))\n",
    "eng = int(input(\"Enter marks eng: \"))\n",
    "phy = int(input(\"Enter marks phy: \"))\n",
    "\n",
    "calculate_percenatge(bio, chem, eng, phy)"
   ]
  },
  {
   "cell_type": "markdown",
   "id": "cbc88372",
   "metadata": {},
   "source": [
    "### Task: Area of square"
   ]
  },
  {
   "cell_type": "code",
   "execution_count": 36,
   "id": "a19244fa",
   "metadata": {},
   "outputs": [],
   "source": [
    "def calc_area():\n",
    "    len_square = int(input('Input the length: '))\n",
    "    area = len_square * len_square\n",
    "    print(f'The area of square is {area} Sq.units')"
   ]
  },
  {
   "cell_type": "code",
   "execution_count": 37,
   "id": "4e433c0c",
   "metadata": {},
   "outputs": [
    {
     "name": "stdout",
     "output_type": "stream",
     "text": [
      "Input the length: 6\n",
      "The area of square is 36 Sq.units\n"
     ]
    }
   ],
   "source": [
    "calc_area()"
   ]
  },
  {
   "cell_type": "code",
   "execution_count": 40,
   "id": "2e2f3d35",
   "metadata": {},
   "outputs": [],
   "source": [
    "def calculate_volumne(length, breadth, height):\n",
    "    vol = length * breadth * height\n",
    "    print(f\" volume of a cube is : {vol}\")"
   ]
  },
  {
   "cell_type": "code",
   "execution_count": 42,
   "id": "c13239ce",
   "metadata": {},
   "outputs": [
    {
     "name": "stdout",
     "output_type": "stream",
     "text": [
      " volumen of a  cube is : 137149\n"
     ]
    }
   ],
   "source": [
    "calculate_volumne(23, 67, 89)"
   ]
  },
  {
   "cell_type": "code",
   "execution_count": 45,
   "id": "a98b5f88",
   "metadata": {},
   "outputs": [],
   "source": [
    "def calculate_volumne(length, breadth, height):\n",
    "    vol = length * breadth * height\n",
    "    return vol"
   ]
  },
  {
   "cell_type": "code",
   "execution_count": 47,
   "id": "ef0d0ca4",
   "metadata": {},
   "outputs": [
    {
     "name": "stdout",
     "output_type": "stream",
     "text": [
      "volumen of a cube is 137149\n"
     ]
    }
   ],
   "source": [
    "print(f\"volume of a cube is {calculate_volumne(23, 67, 89)}\")"
   ]
  },
  {
   "cell_type": "code",
   "execution_count": 54,
   "id": "9bc1ed60",
   "metadata": {},
   "outputs": [
    {
     "name": "stdout",
     "output_type": "stream",
     "text": [
      "volume of a cube is 137149\n"
     ]
    }
   ],
   "source": [
    "print(\"volume of a cube is {0}\".format(calculate_volumne(23, 67, 89)))"
   ]
  },
  {
   "cell_type": "code",
   "execution_count": 51,
   "id": "874161d6",
   "metadata": {},
   "outputs": [],
   "source": [
    "def calculate_volumne(length, breadth, height):\n",
    "    vol = length * breadth * height\n",
    "    return vol"
   ]
  },
  {
   "cell_type": "code",
   "execution_count": 52,
   "id": "8fddce9b",
   "metadata": {},
   "outputs": [
    {
     "name": "stdout",
     "output_type": "stream",
     "text": [
      "137149\n"
     ]
    }
   ],
   "source": [
    "print(calculate_volumne(23, 67, 89))"
   ]
  },
  {
   "cell_type": "code",
   "execution_count": 58,
   "id": "20ffb74b",
   "metadata": {},
   "outputs": [
    {
     "ename": "SyntaxError",
     "evalue": "non-default argument follows default argument (464244799.py, line 1)",
     "output_type": "error",
     "traceback": [
      "\u001b[1;36m  Cell \u001b[1;32mIn [58], line 1\u001b[1;36m\u001b[0m\n\u001b[1;33m    def complete_name(first_name, middle_name= '', last_name):\u001b[0m\n\u001b[1;37m                                                   ^\u001b[0m\n\u001b[1;31mSyntaxError\u001b[0m\u001b[1;31m:\u001b[0m non-default argument follows default argument\n"
     ]
    }
   ],
   "source": [
    "                \"Qasim\"    \"\" \"Hassan\"\n",
    "def complete_name(first_name, middle_name= '', last_name):\n",
    "    return f\"{first_name} {middle_name} {last_name}\""
   ]
  },
  {
   "cell_type": "code",
   "execution_count": 59,
   "id": "4a8771b0",
   "metadata": {},
   "outputs": [],
   "source": [
    "def complete_name(first_name, last_name, middle_name= ''):\n",
    "    return f\"{first_name} {middle_name} {last_name}\""
   ]
  },
  {
   "cell_type": "code",
   "execution_count": 60,
   "id": "55ed4c4f",
   "metadata": {},
   "outputs": [
    {
     "data": {
      "text/plain": [
       "'Qasim  Hassan'"
      ]
     },
     "execution_count": 60,
     "metadata": {},
     "output_type": "execute_result"
    }
   ],
   "source": [
    "complete_name(\"Qasim\", \"Hassan\")"
   ]
  },
  {
   "cell_type": "code",
   "execution_count": 61,
   "id": "62fd5306",
   "metadata": {},
   "outputs": [
    {
     "data": {
      "text/plain": [
       "'Mehmood ul Hassan'"
      ]
     },
     "execution_count": 61,
     "metadata": {},
     "output_type": "execute_result"
    }
   ],
   "source": [
    "complete_name(\"Mehmood\", \"Hassan\", 'ul')"
   ]
  },
  {
   "cell_type": "code",
   "execution_count": 62,
   "id": "cbb80e53",
   "metadata": {},
   "outputs": [
    {
     "data": {
      "text/plain": [
       "'ul Qasim Hassan'"
      ]
     },
     "execution_count": 62,
     "metadata": {},
     "output_type": "execute_result"
    }
   ],
   "source": [
    "complete_name(\"ul\", \"Hassan\", 'Qasim')"
   ]
  },
  {
   "cell_type": "code",
   "execution_count": 66,
   "id": "b9691435",
   "metadata": {},
   "outputs": [
    {
     "data": {
      "text/plain": [
       "'Qasim ul Hassan'"
      ]
     },
     "execution_count": 66,
     "metadata": {},
     "output_type": "execute_result"
    }
   ],
   "source": [
    "complete_name(middle_name = \"ul\", last_name = \"Hassan\", first_name = 'Qasim')"
   ]
  },
  {
   "cell_type": "code",
   "execution_count": 63,
   "id": "3d85d608",
   "metadata": {},
   "outputs": [],
   "source": [
    "def calc_tax(sales_total = 101.37, tax_rate= .05):\n",
    "    return sales_total * tax_rate"
   ]
  },
  {
   "cell_type": "code",
   "execution_count": 64,
   "id": "e716b8c3",
   "metadata": {},
   "outputs": [
    {
     "data": {
      "text/plain": [
       "5.0685"
      ]
     },
     "execution_count": 64,
     "metadata": {},
     "output_type": "execute_result"
    }
   ],
   "source": [
    "calc_tax()"
   ]
  },
  {
   "cell_type": "code",
   "execution_count": 65,
   "id": "b06d58a7",
   "metadata": {},
   "outputs": [
    {
     "data": {
      "text/plain": [
       "9.1233"
      ]
     },
     "execution_count": 65,
     "metadata": {},
     "output_type": "execute_result"
    }
   ],
   "source": [
    "calc_tax(tax_rate= .09)"
   ]
  },
  {
   "cell_type": "code",
   "execution_count": null,
   "id": "2fccc854",
   "metadata": {},
   "outputs": [],
   "source": [
    "- Create a function\n",
    "- Without paramerter\n",
    "- With parameters\n",
    "- return\n",
    "- defaul_paramters\n",
    "- positional argument"
   ]
  }
 ],
 "metadata": {
  "kernelspec": {
   "display_name": "Python 3 (ipykernel)",
   "language": "python",
   "name": "python3"
  },
  "language_info": {
   "codemirror_mode": {
    "name": "ipython",
    "version": 3
   },
   "file_extension": ".py",
   "mimetype": "text/x-python",
   "name": "python",
   "nbconvert_exporter": "python",
   "pygments_lexer": "ipython3",
   "version": "3.11.4"
  },
  "toc": {
   "base_numbering": 1,
   "nav_menu": {},
   "number_sections": true,
   "sideBar": true,
   "skip_h1_title": false,
   "title_cell": "Table of Contents",
   "title_sidebar": "Contents",
   "toc_cell": false,
   "toc_position": {},
   "toc_section_display": true,
   "toc_window_display": false
  }
 },
 "nbformat": 4,
 "nbformat_minor": 5
}
