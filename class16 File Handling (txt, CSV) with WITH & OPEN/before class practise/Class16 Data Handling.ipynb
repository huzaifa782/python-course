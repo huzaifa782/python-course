{
 "cells": [
  {
   "cell_type": "markdown",
   "id": "254f6a76",
   "metadata": {},
   "source": [
    "## Data files"
   ]
  },
  {
   "cell_type": "code",
   "execution_count": 3,
   "id": "ff489ee9",
   "metadata": {},
   "outputs": [],
   "source": [
    "with open(\"whatever.txt\", \"w\") as file_to_work_with:\n",
    "    pass"
   ]
  },
  {
   "cell_type": "code",
   "execution_count": null,
   "id": "023e2318",
   "metadata": {},
   "outputs": [],
   "source": [
    "file_to_work_with = open(\"whatever.txt\", \"w\"):"
   ]
  },
  {
   "cell_type": "code",
   "execution_count": 5,
   "id": "a9334059",
   "metadata": {},
   "outputs": [],
   "source": [
    "with open(\"data\\whatever.txt\", \"w\") as file_to_work_with:\n",
    "    pass"
   ]
  },
  {
   "cell_type": "code",
   "execution_count": null,
   "id": "61fdf9e7",
   "metadata": {},
   "outputs": [],
   "source": [
    "with open(\"data/whatever.txt\", \"w\") as file_to_work_with:\n",
    "    pass"
   ]
  },
  {
   "cell_type": "code",
   "execution_count": null,
   "id": "54f66ce1",
   "metadata": {},
   "outputs": [],
   "source": [
    "with open(\"whatever.txt\", \"w\") as f:"
   ]
  },
  {
   "cell_type": "markdown",
   "id": "5f00b8ff",
   "metadata": {},
   "source": [
    "## Data files: Storing data"
   ]
  },
  {
   "cell_type": "code",
   "execution_count": 6,
   "id": "60ba3de2",
   "metadata": {},
   "outputs": [],
   "source": [
    "with open(\"whatever.txt\", \"w\") as f:\n",
    "    f.write(\"Hello, World : Over writing existing content\")"
   ]
  },
  {
   "cell_type": "code",
   "execution_count": 17,
   "id": "4f221b14",
   "metadata": {},
   "outputs": [],
   "source": [
    "grettings = \"Hello, Mehmood : Overwrite the previous content\"\n",
    "\n",
    "with open(\"whatever.txt\", \"w\") as f:\n",
    "    f.write(grettings)"
   ]
  },
  {
   "cell_type": "markdown",
   "id": "1aef796c",
   "metadata": {},
   "source": [
    "## Data files: Retrieving data"
   ]
  },
  {
   "cell_type": "code",
   "execution_count": 10,
   "id": "f0b4504f",
   "metadata": {},
   "outputs": [],
   "source": [
    "with open(\"whatever.txt\", \"r\") as f: # r is a defuat mode here\n",
    "    text = f.read()"
   ]
  },
  {
   "cell_type": "code",
   "execution_count": 11,
   "id": "ad49efd8",
   "metadata": {},
   "outputs": [
    {
     "data": {
      "text/plain": [
       "'Hello, Mehmood : Overwrite the previous content'"
      ]
     },
     "execution_count": 11,
     "metadata": {},
     "output_type": "execute_result"
    }
   ],
   "source": [
    "text"
   ]
  },
  {
   "cell_type": "markdown",
   "id": "c6a4c244",
   "metadata": {},
   "source": [
    "### Data files: Appending data"
   ]
  },
  {
   "cell_type": "code",
   "execution_count": 18,
   "id": "c9d0313a",
   "metadata": {},
   "outputs": [],
   "source": [
    "grettings = \"'\\nHello, Qasim : Overwrite the previous content\"\n",
    "\n",
    "with open(\"whatever.txt\", \"a\") as f:\n",
    "    f.write(grettings)"
   ]
  },
  {
   "cell_type": "code",
   "execution_count": 19,
   "id": "fa94ab0f",
   "metadata": {},
   "outputs": [
    {
     "name": "stdout",
     "output_type": "stream",
     "text": [
      "Hello, Mehmood : Overwrite the previous content'\n",
      "Hello, Qasim : Overwrite the previous content\n"
     ]
    }
   ],
   "source": [
    "with open(\"whatever.txt\") as f:\n",
    "    text = f.read()\n",
    "    print(text)"
   ]
  },
  {
   "cell_type": "markdown",
   "id": "595753a5",
   "metadata": {},
   "source": [
    "## Modules"
   ]
  },
  {
   "cell_type": "code",
   "execution_count": 24,
   "id": "c54be3df",
   "metadata": {},
   "outputs": [],
   "source": [
    "import calculations"
   ]
  },
  {
   "cell_type": "code",
   "execution_count": 25,
   "id": "70a6f2db",
   "metadata": {},
   "outputs": [
    {
     "data": {
      "text/plain": [
       "1250.0"
      ]
     },
     "execution_count": 25,
     "metadata": {},
     "output_type": "execute_result"
    }
   ],
   "source": [
    "calculations.calc_tax(5000, 0.25)"
   ]
  },
  {
   "cell_type": "code",
   "execution_count": 26,
   "id": "6cda3074",
   "metadata": {},
   "outputs": [],
   "source": [
    "from calculations import calc_tax"
   ]
  },
  {
   "cell_type": "code",
   "execution_count": 27,
   "id": "096fd652",
   "metadata": {},
   "outputs": [
    {
     "data": {
      "text/plain": [
       "1250.0"
      ]
     },
     "execution_count": 27,
     "metadata": {},
     "output_type": "execute_result"
    }
   ],
   "source": [
    "calc_tax(5000, 0.25)"
   ]
  },
  {
   "cell_type": "markdown",
   "id": "a1c6bcde",
   "metadata": {},
   "source": [
    "## CSV files"
   ]
  },
  {
   "cell_type": "code",
   "execution_count": 28,
   "id": "94847b64",
   "metadata": {},
   "outputs": [],
   "source": [
    "import csv"
   ]
  },
  {
   "cell_type": "code",
   "execution_count": 31,
   "id": "02787d30",
   "metadata": {},
   "outputs": [],
   "source": [
    "with open('psl_details.csv') as psl:\n",
    "    psl_content = csv.reader(psl)\n",
    "    psl_list = []\n",
    "    for each_record in psl_content:\n",
    "        psl_list +=each_record"
   ]
  },
  {
   "cell_type": "code",
   "execution_count": 32,
   "id": "2fabeecc",
   "metadata": {},
   "outputs": [
    {
     "name": "stdout",
     "output_type": "stream",
     "text": [
      "['YEAR', 'SEASON_NUMBER', 'WINNER', '2016', '1', 'Islamabad United', '2017', '2', 'Peshawar Zalmi', '2018', '3', 'Islamabad United', '2019', '4', 'Quetta Gladiators', '2020', '5', 'Karachi Kings', '2021', '6', 'Multan Sultans']\n"
     ]
    }
   ],
   "source": [
    "print(psl_list)"
   ]
  },
  {
   "cell_type": "code",
   "execution_count": 34,
   "id": "0a0ca3e2",
   "metadata": {},
   "outputs": [
    {
     "name": "stdout",
     "output_type": "stream",
     "text": [
      "1\n"
     ]
    }
   ],
   "source": [
    "print(psl_list[4])"
   ]
  },
  {
   "cell_type": "code",
   "execution_count": 37,
   "id": "7af3a1cb",
   "metadata": {},
   "outputs": [],
   "source": [
    "index_number_of_target =psl_list.index(\"1\")"
   ]
  },
  {
   "cell_type": "code",
   "execution_count": 38,
   "id": "ce1e7d06",
   "metadata": {},
   "outputs": [
    {
     "data": {
      "text/plain": [
       "4"
      ]
     },
     "execution_count": 38,
     "metadata": {},
     "output_type": "execute_result"
    }
   ],
   "source": [
    "index_number_of_target"
   ]
  },
  {
   "cell_type": "code",
   "execution_count": 42,
   "id": "ceedf042",
   "metadata": {},
   "outputs": [
    {
     "name": "stdout",
     "output_type": "stream",
     "text": [
      "Enter the season of a PSL:5\n",
      "The winner was Karachi Kings\n"
     ]
    }
   ],
   "source": [
    "target = input(\"Enter the season of a PSL:\")\n",
    "index_number_of_target =psl_list.index(target)\n",
    "index_number_of_winner = index_number_of_target + 1\n",
    "the_winner =psl_list[index_number_of_winner]\n",
    "print(\"The winner was \" + the_winner)"
   ]
  },
  {
   "cell_type": "markdown",
   "id": "ba70f7b3",
   "metadata": {},
   "source": [
    "## CSV files: Loading information into them"
   ]
  },
  {
   "cell_type": "code",
   "execution_count": 51,
   "id": "b75b9e51",
   "metadata": {},
   "outputs": [],
   "source": [
    "with open('whatever_details.csv', 'w', newline='') as psl:\n",
    "    data_handler = csv.writer(psl, delimiter=\",\")\n",
    "    data_handler.writerow([\"Year\", \"Event\",\"Winner\"])\n",
    "    data_handler.writerow([\"1995\", \"Best-Kept Lawn\",\"None\"])\n",
    "    data_handler.writerow([\"1999\", \"Gobstones\",\"Welch National\"])"
   ]
  },
  {
   "cell_type": "markdown",
   "id": "00a1ac37",
   "metadata": {},
   "source": [
    "## CSV files: Appending rows to them."
   ]
  },
  {
   "cell_type": "code",
   "execution_count": 52,
   "id": "3a17ac6b",
   "metadata": {},
   "outputs": [],
   "source": [
    "with open('whatever_details.csv', 'a', newline='') as psl:\n",
    "    data_handler = csv.writer(psl, delimiter=\",\")\n",
    "    data_handler.writerow([\"2006\", \"World Cup\",\"Burkina Faso\"])\n",
    "    data_handler.writerow([\"2011\", \"Butter Cup\",\"France\"])\n",
    "    data_handler.writerow([\"2012\", \"Coffee Cup\",\"Brazil\"])\n"
   ]
  },
  {
   "cell_type": "code",
   "execution_count": null,
   "id": "76713b56",
   "metadata": {},
   "outputs": [],
   "source": []
  }
 ],
 "metadata": {
  "kernelspec": {
   "display_name": "Python 3 (ipykernel)",
   "language": "python",
   "name": "python3"
  },
  "language_info": {
   "codemirror_mode": {
    "name": "ipython",
    "version": 3
   },
   "file_extension": ".py",
   "mimetype": "text/x-python",
   "name": "python",
   "nbconvert_exporter": "python",
   "pygments_lexer": "ipython3",
   "version": "3.11.4"
  },
  "toc": {
   "base_numbering": 1,
   "nav_menu": {},
   "number_sections": true,
   "sideBar": true,
   "skip_h1_title": false,
   "title_cell": "Table of Contents",
   "title_sidebar": "Contents",
   "toc_cell": false,
   "toc_position": {},
   "toc_section_display": true,
   "toc_window_display": false
  }
 },
 "nbformat": 4,
 "nbformat_minor": 5
}
